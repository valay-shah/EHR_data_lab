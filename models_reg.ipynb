{
 "cells": [
  {
   "cell_type": "code",
   "execution_count": 1,
   "metadata": {},
   "outputs": [
    {
     "name": "stdout",
     "output_type": "stream",
     "text": [
      "importing Jupyter notebook from method_1_reg.ipynb\n"
     ]
    },
    {
     "name": "stderr",
     "output_type": "stream",
     "text": [
      "<string>:2: FutureWarning: In a future version of pandas all arguments of DataFrame.drop except for the argument 'labels' will be keyword-only\n",
      "<string>:3: FutureWarning: In a future version of pandas all arguments of DataFrame.drop except for the argument 'labels' will be keyword-only\n",
      "<string>:4: FutureWarning: In a future version of pandas all arguments of DataFrame.drop except for the argument 'labels' will be keyword-only\n",
      "<string>:1: FutureWarning: In a future version of pandas all arguments of DataFrame.drop except for the argument 'labels' will be keyword-only\n",
      "<string>:2: FutureWarning: In a future version of pandas all arguments of DataFrame.drop except for the argument 'labels' will be keyword-only\n",
      "<string>:1: FutureWarning: In a future version of pandas all arguments of DataFrame.drop except for the argument 'labels' will be keyword-only\n"
     ]
    },
    {
     "name": "stdout",
     "output_type": "stream",
     "text": [
      "importing Jupyter notebook from method_2_reg.ipynb\n"
     ]
    },
    {
     "name": "stderr",
     "output_type": "stream",
     "text": [
      "<string>:3: FutureWarning: In a future version of pandas all arguments of DataFrame.drop except for the argument 'labels' will be keyword-only\n",
      "<string>:4: FutureWarning: In a future version of pandas all arguments of DataFrame.drop except for the argument 'labels' will be keyword-only\n"
     ]
    }
   ],
   "source": [
    "import numpy as np\n",
    "import pandas as pd                                               \n",
    "import sklearn\n",
    "import xgboost\n",
    "from xgboost import cv\n",
    "from sklearn.model_selection import StratifiedKFold\n",
    "from sklearn.model_selection import cross_val_score\n",
    "#from mlxtend.classifier import StackingClassifier\n",
    "from sklearn.ensemble import StackingRegressor\n",
    "from sklearn.neighbors import KNeighborsRegressor\n",
    "from sklearn import svm\n",
    "import matplotlib.pyplot as plt\n",
    "from sklearn.metrics import mean_squared_error, r2_score\n",
    "from sklearn.inspection import permutation_importance\n",
    "from xgboost import XGBRegressor\n",
    "import sklearn.gaussian_process as gp\n",
    "import import_ipynb\n",
    "import method_1_reg\n",
    "import method_2_reg"
   ]
  },
  {
   "cell_type": "code",
   "execution_count": 6,
   "metadata": {},
   "outputs": [],
   "source": [
    "train = pd.read_csv('train_method1_rg.csv')\n",
    "test = pd.read_csv('test_method1_rg.csv')\n",
    "rs = method_1_reg.rs\n",
    "# rs = method_2_reg.rs                                    ### uncooment this if running the method_2 and using the random state of that method"
   ]
  },
  {
   "cell_type": "code",
   "execution_count": 7,
   "metadata": {},
   "outputs": [],
   "source": [
    "Y_train = train['y']\n",
    "X_train = train.drop(columns = ['y'])"
   ]
  },
  {
   "cell_type": "code",
   "execution_count": 8,
   "metadata": {},
   "outputs": [],
   "source": [
    "Y_test = test['y']\n",
    "X_test = test.drop(columns = ['y'])"
   ]
  },
  {
   "cell_type": "code",
   "execution_count": 10,
   "metadata": {},
   "outputs": [
    {
     "name": "stdout",
     "output_type": "stream",
     "text": [
      "[2.00833835 4.43480425 3.47251208 4.10144789 2.65006424 1.71659124\n",
      " 2.34894489 3.10200262 2.65767942 2.22817168 2.01889788 2.77581941\n",
      " 2.78988205 2.86824819 3.29086015 2.19467767 3.18176373 2.57566737\n",
      " 2.18801458 3.3531775  1.91980679 3.38465355 2.00667217 5.11028481\n",
      " 2.32009013 3.25145131 2.58539387 3.52789968]\n",
      "Mean squared error: 0.22457049016946046 Root Mean squared error: 0.47388868964078523\n",
      "Validation accuracy is 0.7394991161402362\n",
      "Training accuracy is 0.8682391926842955\n",
      "Testing accuracy is 0.7765942273411557\n"
     ]
    },
    {
     "data": {
      "image/png": "[encoded data removed]",
      "text/plain": [
       "<Figure size 432x288 with 1 Axes>"
      ]
     },
     "metadata": {
      "needs_background": "light"
     },
     "output_type": "display_data"
    }
   ],
   "source": [
    "ridge_reg = None\n",
    "def ridge_reg(X_train, X_test, Y_train,Y_test):\n",
    "    global ridge_reg\n",
    "    ridge_reg = sklearn.linear_model.Ridge(random_state = rs)\n",
    "    ridge_reg.fit(X_train, Y_train)\n",
    "    results = cross_val_score(ridge_reg, X_train, Y_train, cv=10, scoring=\"r2\")\n",
    "    preds = ridge_reg.predict(X_test)\n",
    "    print(preds)\n",
    "    \n",
    "    print(\"Mean squared error:\", mean_squared_error(Y_test,preds),\"Root Mean squared error:\", np.sqrt(mean_squared_error(Y_test,preds)))\n",
    "    print(\"Validation accuracy is\", results.mean())\n",
    "    print(f\"Training accuracy is {ridge_reg.score(X_train, Y_train)}\")\n",
    "    print(f\"Testing accuracy is {ridge_reg.score(X_test, Y_test)}\")\n",
    "    X_test_1['preds'] = preds\n",
    "    result = permutation_importance(ridge_reg, X_train, Y_train, n_repeats=10, random_state=0, n_jobs=2)\n",
    "    sorted_index = result.importances_mean.argsort()\n",
    "    top10 = sorted_index[-10:]\n",
    "    feature_names = list(X_train.columns)\n",
    "    top10 = top10[::-1]\n",
    "    arr_x = []\n",
    "    arr_y = []\n",
    "    for i in top10:\n",
    "        arr_x.append( result.importances_mean[i])\n",
    "        arr_y.append(feature_names[i])\n",
    "    plt.barh(arr_y, arr_x)\n",
    "    plt.show()\n",
    "ridge_reg(X_train, X_test, Y_train, Y_test)"
   ]
  },
  {
   "cell_type": "code",
   "execution_count": 8,
   "metadata": {},
   "outputs": [
    {
     "name": "stderr",
     "output_type": "stream",
     "text": [
      "C:\\Users\\valay\\anaconda3\\lib\\site-packages\\sklearn\\base.py:441: UserWarning: X does not have valid feature names, but RandomForestRegressor was fitted with feature names\n",
      "  warnings.warn(\n"
     ]
    },
    {
     "name": "stdout",
     "output_type": "stream",
     "text": [
      "Mean squared error: 0.16251598168281642 Root Mean squared error: 0.40313270976542753\n",
      "Validation accuracy is 0.8463497017193475\n",
      "Training accuracy is 0.9318258498561114\n",
      "Testing accuracy is 0.8271072055221268\n"
     ]
    },
    {
     "data": {
      "image/png": "[encoded data removed]",
      "text/plain": [
       "<Figure size 432x288 with 1 Axes>"
      ]
     },
     "metadata": {
      "needs_background": "light"
     },
     "output_type": "display_data"
    }
   ],
   "source": [
    "rf_model = None\n",
    "def random_forest(X_train, X_test, Y_train,Y_test):\n",
    "    global rf_model\n",
    "    rf_model = sklearn.ensemble.RandomForestRegressor(n_estimators=474, oob_score = True, criterion='squared_error',max_depth=90, min_samples_split=10, random_state=rs, max_features='auto', min_samples_leaf = 6)\n",
    "    rf_model.fit(X_train, Y_train)\n",
    "    preds = rf_model.predict(X_test)\n",
    "    print(\"Mean squared error:\", mean_squared_error(Y_test,preds),\"Root Mean squared error:\", np.sqrt(mean_squared_error(Y_test,preds)))\n",
    "    print(\"Validation accuracy is\", rf_model.oob_score_)\n",
    "    print(f\"Training accuracy is {rf_model.score(X_train, Y_train)}\")\n",
    "    print(f\"Testing accuracy is {rf_model.score(X_test, Y_test)}\")\n",
    "    result = permutation_importance(rf_model, X_train, Y_train, n_repeats=10, random_state=0, n_jobs=2)\n",
    "    sorted_index = result.importances_mean.argsort()\n",
    "    top10 = sorted_index[-10:]\n",
    "    feature_names = list(X_train.columns)\n",
    "    top10 = top10[::-1]\n",
    "    arr_x = []\n",
    "    arr_y = []\n",
    "    for i in top10:\n",
    "        arr_x.append( result.importances_mean[i])\n",
    "        arr_y.append(feature_names[i])\n",
    "    plt.barh(arr_y, arr_x)\n",
    "    plt.show()\n",
    "random_forest(X_train, X_test, Y_train, Y_test)"
   ]
  },
  {
   "cell_type": "code",
   "execution_count": 13,
   "metadata": {},
   "outputs": [
    {
     "name": "stdout",
     "output_type": "stream",
     "text": [
      "Mean squared error: 0.10075756499329117 Root Mean squared error: 0.31742332143888097\n",
      "Validation accuracy is 0.659266769161136\n",
      "Training accuracy is 0.9420503695734179\n",
      "Testing accuracy is 0.8928089607182432\n"
     ]
    },
    {
     "data": {
      "image/png": "[encoded data removed]",
      "text/plain": [
       "<Figure size 432x288 with 1 Axes>"
      ]
     },
     "metadata": {
      "needs_background": "light"
     },
     "output_type": "display_data"
    }
   ],
   "source": [
    "xgb_model = None\n",
    "def xgboost(X_train, X_test,Y_train, Y_test):\n",
    "    global xgb_model\n",
    "    xgb_model = XGBRegressor(n_estimators = 200, random_state=rs, subsample=0.8, max_depth=50, eta=0.5, gamma=1, min_child_weight=10, alpha=1)\n",
    "    xgb_model.fit(X_train, Y_train)\n",
    "    results = cross_val_score(xgb_model, X_train, Y_train, cv=10)\n",
    "    preds = xgb_model.predict(X_test)\n",
    "    print(\"Mean squared error:\", mean_squared_error(Y_test,preds),\"Root Mean squared error:\", np.sqrt(mean_squared_error(Y_test,preds)))\n",
    "    print(\"Validation accuracy is\", results.mean())\n",
    "    print(f\"Training accuracy is {xgb_model.score(X_train, Y_train)}\")\n",
    "    print(f\"Testing accuracy is {xgb_model.score(X_test, Y_test)}\")\n",
    "    result = permutation_importance(xgb_model, X_train, Y_train, n_repeats=10, random_state=0, n_jobs=2)\n",
    "    sorted_index = result.importances_mean.argsort()\n",
    "    top10 = sorted_index[-10:]\n",
    "    feature_names = list(X_train.columns)\n",
    "    top10 = top10[::-1]\n",
    "    arr_x = []\n",
    "    arr_y = []\n",
    "    for i in top10:\n",
    "        arr_x.append( result.importances_mean[i])\n",
    "        arr_y.append(feature_names[i])\n",
    "    plt.barh(arr_y, arr_x)\n",
    "    plt.show()\n",
    "    plt.show()\n",
    "xgboost(X_train, X_test, Y_train, Y_test)"
   ]
  },
  {
   "cell_type": "code",
   "execution_count": 12,
   "metadata": {},
   "outputs": [
    {
     "name": "stderr",
     "output_type": "stream",
     "text": [
      "C:\\Users\\valay\\anaconda3\\lib\\site-packages\\sklearn\\base.py:441: UserWarning: X does not have valid feature names, but RandomForestRegressor was fitted with feature names\n",
      "  warnings.warn(\n",
      "C:\\Users\\valay\\anaconda3\\lib\\site-packages\\sklearn\\base.py:441: UserWarning: X does not have valid feature names, but RandomForestRegressor was fitted with feature names\n",
      "  warnings.warn(\n",
      "C:\\Users\\valay\\anaconda3\\lib\\site-packages\\sklearn\\base.py:441: UserWarning: X does not have valid feature names, but RandomForestRegressor was fitted with feature names\n",
      "  warnings.warn(\n",
      "C:\\Users\\valay\\anaconda3\\lib\\site-packages\\sklearn\\base.py:441: UserWarning: X does not have valid feature names, but RandomForestRegressor was fitted with feature names\n",
      "  warnings.warn(\n",
      "C:\\Users\\valay\\anaconda3\\lib\\site-packages\\sklearn\\base.py:441: UserWarning: X does not have valid feature names, but RandomForestRegressor was fitted with feature names\n",
      "  warnings.warn(\n",
      "C:\\Users\\valay\\anaconda3\\lib\\site-packages\\sklearn\\base.py:441: UserWarning: X does not have valid feature names, but RandomForestRegressor was fitted with feature names\n",
      "  warnings.warn(\n",
      "C:\\Users\\valay\\anaconda3\\lib\\site-packages\\sklearn\\base.py:441: UserWarning: X does not have valid feature names, but RandomForestRegressor was fitted with feature names\n",
      "  warnings.warn(\n",
      "C:\\Users\\valay\\anaconda3\\lib\\site-packages\\sklearn\\base.py:441: UserWarning: X does not have valid feature names, but RandomForestRegressor was fitted with feature names\n",
      "  warnings.warn(\n",
      "C:\\Users\\valay\\anaconda3\\lib\\site-packages\\sklearn\\base.py:441: UserWarning: X does not have valid feature names, but RandomForestRegressor was fitted with feature names\n",
      "  warnings.warn(\n",
      "C:\\Users\\valay\\anaconda3\\lib\\site-packages\\sklearn\\base.py:441: UserWarning: X does not have valid feature names, but RandomForestRegressor was fitted with feature names\n",
      "  warnings.warn(\n",
      "C:\\Users\\valay\\anaconda3\\lib\\site-packages\\sklearn\\base.py:441: UserWarning: X does not have valid feature names, but RandomForestRegressor was fitted with feature names\n",
      "  warnings.warn(\n",
      "C:\\Users\\valay\\anaconda3\\lib\\site-packages\\sklearn\\base.py:441: UserWarning: X does not have valid feature names, but RandomForestRegressor was fitted with feature names\n",
      "  warnings.warn(\n",
      "C:\\Users\\valay\\anaconda3\\lib\\site-packages\\sklearn\\base.py:441: UserWarning: X does not have valid feature names, but RandomForestRegressor was fitted with feature names\n",
      "  warnings.warn(\n",
      "C:\\Users\\valay\\anaconda3\\lib\\site-packages\\sklearn\\base.py:441: UserWarning: X does not have valid feature names, but RandomForestRegressor was fitted with feature names\n",
      "  warnings.warn(\n",
      "C:\\Users\\valay\\anaconda3\\lib\\site-packages\\sklearn\\base.py:441: UserWarning: X does not have valid feature names, but RandomForestRegressor was fitted with feature names\n",
      "  warnings.warn(\n",
      "C:\\Users\\valay\\anaconda3\\lib\\site-packages\\sklearn\\base.py:441: UserWarning: X does not have valid feature names, but RandomForestRegressor was fitted with feature names\n",
      "  warnings.warn(\n",
      "C:\\Users\\valay\\anaconda3\\lib\\site-packages\\sklearn\\base.py:441: UserWarning: X does not have valid feature names, but RandomForestRegressor was fitted with feature names\n",
      "  warnings.warn(\n",
      "C:\\Users\\valay\\anaconda3\\lib\\site-packages\\sklearn\\base.py:441: UserWarning: X does not have valid feature names, but RandomForestRegressor was fitted with feature names\n",
      "  warnings.warn(\n",
      "C:\\Users\\valay\\anaconda3\\lib\\site-packages\\sklearn\\base.py:441: UserWarning: X does not have valid feature names, but RandomForestRegressor was fitted with feature names\n",
      "  warnings.warn(\n",
      "C:\\Users\\valay\\anaconda3\\lib\\site-packages\\sklearn\\base.py:441: UserWarning: X does not have valid feature names, but RandomForestRegressor was fitted with feature names\n",
      "  warnings.warn(\n",
      "C:\\Users\\valay\\anaconda3\\lib\\site-packages\\sklearn\\base.py:441: UserWarning: X does not have valid feature names, but RandomForestRegressor was fitted with feature names\n",
      "  warnings.warn(\n",
      "C:\\Users\\valay\\anaconda3\\lib\\site-packages\\sklearn\\base.py:441: UserWarning: X does not have valid feature names, but RandomForestRegressor was fitted with feature names\n",
      "  warnings.warn(\n",
      "C:\\Users\\valay\\anaconda3\\lib\\site-packages\\sklearn\\base.py:441: UserWarning: X does not have valid feature names, but RandomForestRegressor was fitted with feature names\n",
      "  warnings.warn(\n",
      "C:\\Users\\valay\\anaconda3\\lib\\site-packages\\sklearn\\base.py:441: UserWarning: X does not have valid feature names, but RandomForestRegressor was fitted with feature names\n",
      "  warnings.warn(\n",
      "C:\\Users\\valay\\anaconda3\\lib\\site-packages\\sklearn\\base.py:441: UserWarning: X does not have valid feature names, but RandomForestRegressor was fitted with feature names\n",
      "  warnings.warn(\n",
      "C:\\Users\\valay\\anaconda3\\lib\\site-packages\\sklearn\\base.py:441: UserWarning: X does not have valid feature names, but RandomForestRegressor was fitted with feature names\n",
      "  warnings.warn(\n",
      "C:\\Users\\valay\\anaconda3\\lib\\site-packages\\sklearn\\base.py:441: UserWarning: X does not have valid feature names, but RandomForestRegressor was fitted with feature names\n",
      "  warnings.warn(\n",
      "C:\\Users\\valay\\anaconda3\\lib\\site-packages\\sklearn\\base.py:441: UserWarning: X does not have valid feature names, but RandomForestRegressor was fitted with feature names\n",
      "  warnings.warn(\n",
      "C:\\Users\\valay\\anaconda3\\lib\\site-packages\\sklearn\\base.py:441: UserWarning: X does not have valid feature names, but RandomForestRegressor was fitted with feature names\n",
      "  warnings.warn(\n",
      "C:\\Users\\valay\\anaconda3\\lib\\site-packages\\sklearn\\base.py:441: UserWarning: X does not have valid feature names, but RandomForestRegressor was fitted with feature names\n",
      "  warnings.warn(\n",
      "C:\\Users\\valay\\anaconda3\\lib\\site-packages\\sklearn\\base.py:441: UserWarning: X does not have valid feature names, but RandomForestRegressor was fitted with feature names\n",
      "  warnings.warn(\n",
      "C:\\Users\\valay\\anaconda3\\lib\\site-packages\\sklearn\\base.py:441: UserWarning: X does not have valid feature names, but RandomForestRegressor was fitted with feature names\n",
      "  warnings.warn(\n",
      "C:\\Users\\valay\\anaconda3\\lib\\site-packages\\sklearn\\base.py:441: UserWarning: X does not have valid feature names, but RandomForestRegressor was fitted with feature names\n",
      "  warnings.warn(\n",
      "C:\\Users\\valay\\anaconda3\\lib\\site-packages\\sklearn\\base.py:441: UserWarning: X does not have valid feature names, but RandomForestRegressor was fitted with feature names\n",
      "  warnings.warn(\n",
      "C:\\Users\\valay\\anaconda3\\lib\\site-packages\\sklearn\\base.py:441: UserWarning: X does not have valid feature names, but RandomForestRegressor was fitted with feature names\n",
      "  warnings.warn(\n",
      "C:\\Users\\valay\\anaconda3\\lib\\site-packages\\sklearn\\base.py:441: UserWarning: X does not have valid feature names, but RandomForestRegressor was fitted with feature names\n",
      "  warnings.warn(\n",
      "C:\\Users\\valay\\anaconda3\\lib\\site-packages\\sklearn\\base.py:441: UserWarning: X does not have valid feature names, but RandomForestRegressor was fitted with feature names\n",
      "  warnings.warn(\n",
      "C:\\Users\\valay\\anaconda3\\lib\\site-packages\\sklearn\\base.py:441: UserWarning: X does not have valid feature names, but RandomForestRegressor was fitted with feature names\n",
      "  warnings.warn(\n",
      "C:\\Users\\valay\\anaconda3\\lib\\site-packages\\sklearn\\base.py:441: UserWarning: X does not have valid feature names, but RandomForestRegressor was fitted with feature names\n",
      "  warnings.warn(\n",
      "C:\\Users\\valay\\anaconda3\\lib\\site-packages\\sklearn\\base.py:441: UserWarning: X does not have valid feature names, but RandomForestRegressor was fitted with feature names\n",
      "  warnings.warn(\n",
      "C:\\Users\\valay\\anaconda3\\lib\\site-packages\\sklearn\\base.py:441: UserWarning: X does not have valid feature names, but RandomForestRegressor was fitted with feature names\n",
      "  warnings.warn(\n",
      "C:\\Users\\valay\\anaconda3\\lib\\site-packages\\sklearn\\base.py:441: UserWarning: X does not have valid feature names, but RandomForestRegressor was fitted with feature names\n",
      "  warnings.warn(\n",
      "C:\\Users\\valay\\anaconda3\\lib\\site-packages\\sklearn\\base.py:441: UserWarning: X does not have valid feature names, but RandomForestRegressor was fitted with feature names\n",
      "  warnings.warn(\n",
      "C:\\Users\\valay\\anaconda3\\lib\\site-packages\\sklearn\\base.py:441: UserWarning: X does not have valid feature names, but RandomForestRegressor was fitted with feature names\n",
      "  warnings.warn(\n"
     ]
    },
    {
     "name": "stderr",
     "output_type": "stream",
     "text": [
      "C:\\Users\\valay\\anaconda3\\lib\\site-packages\\sklearn\\base.py:441: UserWarning: X does not have valid feature names, but RandomForestRegressor was fitted with feature names\n",
      "  warnings.warn(\n",
      "C:\\Users\\valay\\anaconda3\\lib\\site-packages\\sklearn\\base.py:441: UserWarning: X does not have valid feature names, but RandomForestRegressor was fitted with feature names\n",
      "  warnings.warn(\n",
      "C:\\Users\\valay\\anaconda3\\lib\\site-packages\\sklearn\\base.py:441: UserWarning: X does not have valid feature names, but RandomForestRegressor was fitted with feature names\n",
      "  warnings.warn(\n",
      "C:\\Users\\valay\\anaconda3\\lib\\site-packages\\sklearn\\base.py:441: UserWarning: X does not have valid feature names, but RandomForestRegressor was fitted with feature names\n",
      "  warnings.warn(\n",
      "C:\\Users\\valay\\anaconda3\\lib\\site-packages\\sklearn\\base.py:441: UserWarning: X does not have valid feature names, but RandomForestRegressor was fitted with feature names\n",
      "  warnings.warn(\n",
      "C:\\Users\\valay\\anaconda3\\lib\\site-packages\\sklearn\\base.py:441: UserWarning: X does not have valid feature names, but RandomForestRegressor was fitted with feature names\n",
      "  warnings.warn(\n",
      "C:\\Users\\valay\\anaconda3\\lib\\site-packages\\sklearn\\base.py:441: UserWarning: X does not have valid feature names, but RandomForestRegressor was fitted with feature names\n",
      "  warnings.warn(\n",
      "C:\\Users\\valay\\anaconda3\\lib\\site-packages\\sklearn\\base.py:441: UserWarning: X does not have valid feature names, but RandomForestRegressor was fitted with feature names\n",
      "  warnings.warn(\n",
      "C:\\Users\\valay\\anaconda3\\lib\\site-packages\\sklearn\\base.py:441: UserWarning: X does not have valid feature names, but RandomForestRegressor was fitted with feature names\n",
      "  warnings.warn(\n",
      "C:\\Users\\valay\\anaconda3\\lib\\site-packages\\sklearn\\base.py:441: UserWarning: X does not have valid feature names, but RandomForestRegressor was fitted with feature names\n",
      "  warnings.warn(\n",
      "C:\\Users\\valay\\anaconda3\\lib\\site-packages\\sklearn\\base.py:441: UserWarning: X does not have valid feature names, but RandomForestRegressor was fitted with feature names\n",
      "  warnings.warn(\n",
      "C:\\Users\\valay\\anaconda3\\lib\\site-packages\\sklearn\\base.py:441: UserWarning: X does not have valid feature names, but RandomForestRegressor was fitted with feature names\n",
      "  warnings.warn(\n",
      "C:\\Users\\valay\\anaconda3\\lib\\site-packages\\sklearn\\base.py:441: UserWarning: X does not have valid feature names, but RandomForestRegressor was fitted with feature names\n",
      "  warnings.warn(\n",
      "C:\\Users\\valay\\anaconda3\\lib\\site-packages\\sklearn\\base.py:441: UserWarning: X does not have valid feature names, but RandomForestRegressor was fitted with feature names\n",
      "  warnings.warn(\n",
      "C:\\Users\\valay\\anaconda3\\lib\\site-packages\\sklearn\\base.py:441: UserWarning: X does not have valid feature names, but RandomForestRegressor was fitted with feature names\n",
      "  warnings.warn(\n",
      "C:\\Users\\valay\\anaconda3\\lib\\site-packages\\sklearn\\base.py:441: UserWarning: X does not have valid feature names, but RandomForestRegressor was fitted with feature names\n",
      "  warnings.warn(\n",
      "C:\\Users\\valay\\anaconda3\\lib\\site-packages\\sklearn\\base.py:441: UserWarning: X does not have valid feature names, but RandomForestRegressor was fitted with feature names\n",
      "  warnings.warn(\n",
      "C:\\Users\\valay\\anaconda3\\lib\\site-packages\\sklearn\\base.py:441: UserWarning: X does not have valid feature names, but RandomForestRegressor was fitted with feature names\n",
      "  warnings.warn(\n",
      "C:\\Users\\valay\\anaconda3\\lib\\site-packages\\sklearn\\base.py:441: UserWarning: X does not have valid feature names, but RandomForestRegressor was fitted with feature names\n",
      "  warnings.warn(\n",
      "C:\\Users\\valay\\anaconda3\\lib\\site-packages\\sklearn\\base.py:441: UserWarning: X does not have valid feature names, but RandomForestRegressor was fitted with feature names\n",
      "  warnings.warn(\n",
      "C:\\Users\\valay\\anaconda3\\lib\\site-packages\\sklearn\\base.py:441: UserWarning: X does not have valid feature names, but RandomForestRegressor was fitted with feature names\n",
      "  warnings.warn(\n",
      "C:\\Users\\valay\\anaconda3\\lib\\site-packages\\sklearn\\base.py:441: UserWarning: X does not have valid feature names, but RandomForestRegressor was fitted with feature names\n",
      "  warnings.warn(\n"
     ]
    },
    {
     "name": "stdout",
     "output_type": "stream",
     "text": [
      "Mean squared error: 0.1528155324700292 Root Mean squared error: 0.3909162729665129\n",
      "Validation accuracy is: 0.8838238598463114\n",
      "Training accuracy is 0.9548639398148867\n",
      "Testing accuracy is 0.8479770334918996\n"
     ]
    },
    {
     "data": {
      "image/png": "[encoded data removed]",
      "text/plain": [
       "<Figure size 432x288 with 1 Axes>"
      ]
     },
     "metadata": {
      "needs_background": "light"
     },
     "output_type": "display_data"
    }
   ],
   "source": [
    "st_reg = None\n",
    "def stacking_regressor(X_train, X_test,Y_train, Y_test):\n",
    "    global st_reg\n",
    "    rr = sklearn.linear_model.Ridge(random_state = rs)\n",
    "    SVR = svm.SVR(kernel = 'rbf')\n",
    "    xgb = XGBRegressor(n_estimators = 200, subsample=0.8, max_depth=50, eta=0.5, gamma=1, min_child_weight=10, alpha=1, random_state=rs)   \n",
    "    rf = sklearn.ensemble.RandomForestRegressor(n_estimators=474, oob_score = True, criterion='squared_error',max_depth=90, min_samples_split=10, max_features='auto', min_samples_leaf = 6, random_state = rs)\n",
    "    NB = gp.GaussianProcessRegressor(n_restarts_optimizer=10, alpha=0.1, normalize_y=True)\n",
    "    knn = KNeighborsRegressor(n_neighbors=10)\n",
    "    st_reg = StackingRegressor(estimators =[('xgb',xgb),('rf',rf),('nb',NB),('SVM',SVR)], final_estimator = rr)\n",
    "    st_reg = st_reg.fit(X_train, Y_train)\n",
    "    kfold = StratifiedKFold(n_splits=10)\n",
    "    results = cross_val_score(st_reg, X_train, Y_train, cv=10)\n",
    "    preds = st_reg.predict(X_test)\n",
    "    print(\"Mean squared error:\", mean_squared_error(Y_test,preds),\"Root Mean squared error:\", np.sqrt(mean_squared_error(Y_test,preds)))\n",
    "    print(\"Validation accuracy is:\", results.mean())\n",
    "    print(f\"Training accuracy is {st_reg.score(X_train, Y_train)}\")\n",
    "    print(f\"Testing accuracy is {st_reg.score(X_test, Y_test)}\")\n",
    "    result = permutation_importance(st_reg, X_train, Y_train, n_repeats=10, random_state=0, n_jobs=2)\n",
    "    sorted_index = result.importances_mean.argsort()\n",
    "    top10 = sorted_index[-10:]\n",
    "    feature_names = list(X_train.columns)\n",
    "    top10 = top10[::-1]\n",
    "    arr_x = []\n",
    "    arr_y = []\n",
    "    for i in top10:\n",
    "        arr_x.append( result.importances_mean[i])\n",
    "        arr_y.append(feature_names[i])\n",
    "    plt.barh(arr_y, arr_x)\n",
    "    plt.show()\n",
    "    \n",
    "stacking_regressor(X_train, X_test, Y_train, Y_test)"
   ]
  },
  {
   "cell_type": "code",
   "execution_count": null,
   "metadata": {},
   "outputs": [],
   "source": [
    "### uncomment this code in order to plot the heat map for overlapping of all the features in the regression model\n",
    "'''\n",
    "\n",
    "import seaborn as sns\n",
    "arr_y_rr = ['tender_jts_28','swollen_jts_28','usresultsCRP','IFNb_activity_final','ara_func_class','nonpresNSAIDs_use','pt_global_assess_bl','di_bl','usresultsIgG_bl','usresultsCCP3']\n",
    "arr_y_sr = ['tender_jts_28','usresultsCRP','swollen_jts_28','pt_pain_bl','usresultsIgM_bl','IFNa_activity_final','seatedbp1_bl','ndmardused','di_bl','drinksperwk']\n",
    "arr_y_rf = ['tender_jts_28','usresultsCRP', 'swollen_jts_28','pt_pain_bl','pt_global_assess_bl','usresultsIgM_bl','di_bl','usresultsCRP_bl','usresultsCCP3','usresultsIgA_bl']\n",
    "arr_y_xgb = ['tender_jts_28','usresultsCRP', 'swollen_jts_28','pt_pain_bl','usresultsIgM_bl','di_bl','drinksperwk','height','newsmoker','drinker']\n",
    "arr_val = ['tender_jts_28','swollen_jts_28','usresultsCRP','IFNb_activity_final','ara_func_class','nonpresNSAIDs_use','pt_global_assess_bl','di_bl','usresultsIgG_bl','usresultsCCP3','pt_pain_bl','usresultsIgM_bl','IFNa_activity_final','seatedbp1_bl','ndmardused','drinksperwk','usresultsCRP_bl','usresultsIgA_bl','height','newsmoker','drinker']\n",
    "results_df = pd.DataFrame(arr_val,columns=['feature_name'])\n",
    "results_df['rr'] = [0,0,0,0,0,0,0,0,0,0,0,0,0,0,0,0,0,0,0,0,0]\n",
    "results_df['sr'] = [0,0,0,0,0,0,0,0,0,0,0,0,0,0,0,0,0,0,0,0,0]\n",
    "results_df['rf'] = [0,0,0,0,0,0,0,0,0,0,0,0,0,0,0,0,0,0,0,0,0]\n",
    "results_df['xgb'] = [0,0,0,0,0,0,0,0,0,0,0,0,0,0,0,0,0,0,0,0,0]\n",
    "for i in range(len(results_df['feature_name'])):\n",
    "    if results_df['feature_name'][i] in arr_y:\n",
    "        index = arr_y.index(results_df['feature_name'][i])  #  np.where(arr_y == results_df['feature_name'][i])\n",
    "        results_df['rr'][i] = index + 1\n",
    "    else:\n",
    "         results_df['rr'][i] = 0\n",
    "    if results_df['feature_name'][i] in arr_y_sr:\n",
    "        index = arr_y_sr.index(results_df['feature_name'][i])\n",
    "        results_df['sr'][i] = index + 1\n",
    "    else:\n",
    "         results_df['sr'][i] = 0\n",
    "    if results_df['feature_name'][i] in arr_y_rf:\n",
    "        index = arr_y_rf.index(results_df['feature_name'][i])\n",
    "        results_df['rf'][i] = index + 1\n",
    "    else:\n",
    "         results_df['rf'][i] = 0\n",
    "    if results_df['feature_name'][i] in arr_y_xgb:\n",
    "        index = arr_y_xgb.index(results_df['feature_name'][i])\n",
    "        results_df['xgb'][i] = index + 1\n",
    "    else:\n",
    "         results_df['xgb'][i] = 0\n",
    "    \n",
    "fig, ax = plt.subplots(figsize=(7, 5))\n",
    "new_df = results_df.set_index('feature_name')\n",
    "print(new_df)\n",
    "heatmap1 = sns.heatmap(new_df, annot=True, ax=ax,vmin=0, vmax=10, annot_kws={'fontsize':8})\n",
    "# ax.figure.figsize = (5,3)\n",
    "ax.xaxis.tick_top()'''"
   ]
  }
 ],
 "metadata": {
  "kernelspec": {
   "display_name": "Python 3",
   "language": "python",
   "name": "python3"
  },
  "language_info": {
   "codemirror_mode": {
    "name": "ipython",
    "version": 3
   },
   "file_extension": ".py",
   "mimetype": "text/x-python",
   "name": "python",
   "nbconvert_exporter": "python",
   "pygments_lexer": "ipython3",
   "version": "3.8.5"
  }
 },
 "nbformat": 4,
 "nbformat_minor": 4
}
