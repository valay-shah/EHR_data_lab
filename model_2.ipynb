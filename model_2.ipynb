{
 "cells": [
  {
   "cell_type": "code",
   "execution_count": 2,
   "id": "7e9e1341",
   "metadata": {},
   "outputs": [],
   "source": [
    "import numpy as np\n",
    "import pandas as pd\n",
    "import json\n",
    "from tqdm.notebook import tqdm\n",
    "import matplotlib.pyplot as plt\n",
    "import pickle as pkl\n",
    "import imblearn\n",
    "np.random.seed(1332)\n",
    "from sklearn.datasets import load_boston\n",
    "import pandas as pd\n",
    "import numpy as np\n",
    "import matplotlib\n",
    "import matplotlib.pyplot as plt\n",
    "#import seaborn as sns\n",
    "import statsmodels.api as sm\n",
    "%matplotlib inline\n",
    "import random\n",
    "from sklearn.preprocessing import LabelEncoder\n",
    "from sklearn.model_selection import train_test_split\n",
    "import sys                                               #### Filling the missing values using KNN because the dataset is very less\n",
    "from impyute.imputation.cs import fast_knn\n",
    "import imblearn                                      ### sampling the data using the smote method\n",
    "from imblearn.over_sampling import RandomOverSampler\n",
    "from imblearn.over_sampling import SMOTE\n",
    "import sklearn\n",
    "import xgboost\n",
    "from xgboost import XGBClassifier              ### XGBoost classification method\n",
    "import sklearn\n",
    "from sklearn.model_selection import StratifiedKFold\n",
    "from sklearn.model_selection import cross_val_score\n",
    "from xgboost import cv\n"
   ]
  },
  {
   "cell_type": "code",
   "execution_count": 2,
   "id": "677e9a68",
   "metadata": {},
   "outputs": [],
   "source": [
    "excel = pd.ExcelFile('Coronna Data CERTAIN with KVB edits.xlsx')\n",
    "df = pd.read_excel(excel, 'BL+3M')"
   ]
  },
  {
   "cell_type": "code",
   "execution_count": 3,
   "id": "9d09ddff",
   "metadata": {},
   "outputs": [
    {
     "data": {
      "text/html": [
       "<div>\n",
       "<style scoped>\n",
       "    .dataframe tbody tr th:only-of-type {\n",
       "        vertical-align: middle;\n",
       "    }\n",
       "\n",
       "    .dataframe tbody tr th {\n",
       "        vertical-align: top;\n",
       "    }\n",
       "\n",
       "    .dataframe thead th {\n",
       "        text-align: right;\n",
       "    }\n",
       "</style>\n",
       "<table border=\"1\" class=\"dataframe\">\n",
       "  <thead>\n",
       "    <tr style=\"text-align: right;\">\n",
       "      <th></th>\n",
       "      <th>3MResponse</th>\n",
       "      <th>SubjectID</th>\n",
       "      <th>UNMC_id</th>\n",
       "      <th>init_group</th>\n",
       "      <th>grp</th>\n",
       "      <th>Type I IFN activity</th>\n",
       "      <th>IFNβ activity final</th>\n",
       "      <th>IFNα activity final</th>\n",
       "      <th>IFNβ/α ratio final</th>\n",
       "      <th>CDate</th>\n",
       "      <th>...</th>\n",
       "      <th>BLswollen_jts_28</th>\n",
       "      <th>BLmd_global_assess</th>\n",
       "      <th>BLpt_global_assess</th>\n",
       "      <th>BLdi</th>\n",
       "      <th>BLpt_pain</th>\n",
       "      <th>BLusresultsCRP</th>\n",
       "      <th>DAS28-CRP BL</th>\n",
       "      <th>usresultsIgA.1</th>\n",
       "      <th>usresultsIgG.1</th>\n",
       "      <th>usresultsIgM.1</th>\n",
       "    </tr>\n",
       "  </thead>\n",
       "  <tbody>\n",
       "    <tr>\n",
       "      <th>0</th>\n",
       "      <td>Good</td>\n",
       "      <td>001-01-0171</td>\n",
       "      <td>U00016</td>\n",
       "      <td>bionaive TNF</td>\n",
       "      <td>cimzia</td>\n",
       "      <td>0.000000</td>\n",
       "      <td>NaN</td>\n",
       "      <td>NaN</td>\n",
       "      <td>NaN</td>\n",
       "      <td>2012-06-25</td>\n",
       "      <td>...</td>\n",
       "      <td>3</td>\n",
       "      <td>35.0</td>\n",
       "      <td>10.0</td>\n",
       "      <td>0.00</td>\n",
       "      <td>10.0</td>\n",
       "      <td>4.41</td>\n",
       "      <td>3.444942</td>\n",
       "      <td>284.0</td>\n",
       "      <td>1640.0</td>\n",
       "      <td>94.0</td>\n",
       "    </tr>\n",
       "    <tr>\n",
       "      <th>1</th>\n",
       "      <td>No Response</td>\n",
       "      <td>001-01-0174</td>\n",
       "      <td>U00017</td>\n",
       "      <td>bionaive TNF</td>\n",
       "      <td>enbrel</td>\n",
       "      <td>0.814954</td>\n",
       "      <td>0.714954</td>\n",
       "      <td>0.714954</td>\n",
       "      <td>1.000000</td>\n",
       "      <td>2013-03-25</td>\n",
       "      <td>...</td>\n",
       "      <td>3</td>\n",
       "      <td>35.0</td>\n",
       "      <td>17.0</td>\n",
       "      <td>0.25</td>\n",
       "      <td>25.0</td>\n",
       "      <td>1.19</td>\n",
       "      <td>2.935127</td>\n",
       "      <td>207.0</td>\n",
       "      <td>1010.0</td>\n",
       "      <td>56.0</td>\n",
       "    </tr>\n",
       "    <tr>\n",
       "      <th>2</th>\n",
       "      <td>Moderate</td>\n",
       "      <td>001-01-0177</td>\n",
       "      <td>U00018</td>\n",
       "      <td>bionaive TNF</td>\n",
       "      <td>enbrel</td>\n",
       "      <td>4.582632</td>\n",
       "      <td>2.869955</td>\n",
       "      <td>4.482632</td>\n",
       "      <td>0.640239</td>\n",
       "      <td>2012-09-13</td>\n",
       "      <td>...</td>\n",
       "      <td>6</td>\n",
       "      <td>40.0</td>\n",
       "      <td>10.0</td>\n",
       "      <td>0.00</td>\n",
       "      <td>5.0</td>\n",
       "      <td>0.40</td>\n",
       "      <td>2.698947</td>\n",
       "      <td>190.0</td>\n",
       "      <td>657.0</td>\n",
       "      <td>100.0</td>\n",
       "    </tr>\n",
       "    <tr>\n",
       "      <th>3</th>\n",
       "      <td>Moderate</td>\n",
       "      <td>001-01-0208</td>\n",
       "      <td>U00022</td>\n",
       "      <td>bionaive TNF</td>\n",
       "      <td>enbrel</td>\n",
       "      <td>0.015811</td>\n",
       "      <td>NaN</td>\n",
       "      <td>NaN</td>\n",
       "      <td>NaN</td>\n",
       "      <td>2014-04-08</td>\n",
       "      <td>...</td>\n",
       "      <td>9</td>\n",
       "      <td>55.0</td>\n",
       "      <td>50.0</td>\n",
       "      <td>0.25</td>\n",
       "      <td>60.0</td>\n",
       "      <td>1.00</td>\n",
       "      <td>3.719481</td>\n",
       "      <td>44.0</td>\n",
       "      <td>948.0</td>\n",
       "      <td>51.0</td>\n",
       "    </tr>\n",
       "    <tr>\n",
       "      <th>4</th>\n",
       "      <td>Good</td>\n",
       "      <td>001-02-0163</td>\n",
       "      <td>U00026</td>\n",
       "      <td>bionaive TNF</td>\n",
       "      <td>humira</td>\n",
       "      <td>0.683486</td>\n",
       "      <td>0.583486</td>\n",
       "      <td>0.583486</td>\n",
       "      <td>1.000000</td>\n",
       "      <td>2012-04-23</td>\n",
       "      <td>...</td>\n",
       "      <td>13</td>\n",
       "      <td>65.0</td>\n",
       "      <td>20.0</td>\n",
       "      <td>0.25</td>\n",
       "      <td>65.0</td>\n",
       "      <td>0.25</td>\n",
       "      <td>4.425214</td>\n",
       "      <td>155.0</td>\n",
       "      <td>824.0</td>\n",
       "      <td>43.0</td>\n",
       "    </tr>\n",
       "    <tr>\n",
       "      <th>...</th>\n",
       "      <td>...</td>\n",
       "      <td>...</td>\n",
       "      <td>...</td>\n",
       "      <td>...</td>\n",
       "      <td>...</td>\n",
       "      <td>...</td>\n",
       "      <td>...</td>\n",
       "      <td>...</td>\n",
       "      <td>...</td>\n",
       "      <td>...</td>\n",
       "      <td>...</td>\n",
       "      <td>...</td>\n",
       "      <td>...</td>\n",
       "      <td>...</td>\n",
       "      <td>...</td>\n",
       "      <td>...</td>\n",
       "      <td>...</td>\n",
       "      <td>...</td>\n",
       "      <td>...</td>\n",
       "      <td>...</td>\n",
       "      <td>...</td>\n",
       "    </tr>\n",
       "    <tr>\n",
       "      <th>291</th>\n",
       "      <td>Moderate</td>\n",
       "      <td>094-03-0314</td>\n",
       "      <td>U01220</td>\n",
       "      <td>bionaive TNF</td>\n",
       "      <td>humira</td>\n",
       "      <td>0.379131</td>\n",
       "      <td>0.279131</td>\n",
       "      <td>0.279131</td>\n",
       "      <td>1.000000</td>\n",
       "      <td>2013-04-24</td>\n",
       "      <td>...</td>\n",
       "      <td>9</td>\n",
       "      <td>70.0</td>\n",
       "      <td>15.0</td>\n",
       "      <td>0.00</td>\n",
       "      <td>65.0</td>\n",
       "      <td>6.02</td>\n",
       "      <td>2.711555</td>\n",
       "      <td>125.0</td>\n",
       "      <td>1000.0</td>\n",
       "      <td>77.0</td>\n",
       "    </tr>\n",
       "    <tr>\n",
       "      <th>292</th>\n",
       "      <td>Moderate</td>\n",
       "      <td>094-03-0315</td>\n",
       "      <td>U01221</td>\n",
       "      <td>bionaive TNF</td>\n",
       "      <td>enbrel</td>\n",
       "      <td>0.000000</td>\n",
       "      <td>NaN</td>\n",
       "      <td>NaN</td>\n",
       "      <td>NaN</td>\n",
       "      <td>2013-04-19</td>\n",
       "      <td>...</td>\n",
       "      <td>7</td>\n",
       "      <td>55.0</td>\n",
       "      <td>80.0</td>\n",
       "      <td>1.00</td>\n",
       "      <td>80.0</td>\n",
       "      <td>7.33</td>\n",
       "      <td>5.167880</td>\n",
       "      <td>353.0</td>\n",
       "      <td>859.0</td>\n",
       "      <td>211.0</td>\n",
       "    </tr>\n",
       "    <tr>\n",
       "      <th>293</th>\n",
       "      <td>No Response</td>\n",
       "      <td>094-03-0317</td>\n",
       "      <td>U01222</td>\n",
       "      <td>bionaive TNF</td>\n",
       "      <td>humira</td>\n",
       "      <td>0.000000</td>\n",
       "      <td>NaN</td>\n",
       "      <td>NaN</td>\n",
       "      <td>NaN</td>\n",
       "      <td>2013-05-15</td>\n",
       "      <td>...</td>\n",
       "      <td>6</td>\n",
       "      <td>35.0</td>\n",
       "      <td>50.0</td>\n",
       "      <td>0.00</td>\n",
       "      <td>15.0</td>\n",
       "      <td>22.36</td>\n",
       "      <td>4.272186</td>\n",
       "      <td>266.0</td>\n",
       "      <td>1330.0</td>\n",
       "      <td>253.0</td>\n",
       "    </tr>\n",
       "    <tr>\n",
       "      <th>294</th>\n",
       "      <td>Good</td>\n",
       "      <td>094-03-0324</td>\n",
       "      <td>U01227</td>\n",
       "      <td>bionaive TNF</td>\n",
       "      <td>humira</td>\n",
       "      <td>0.000000</td>\n",
       "      <td>NaN</td>\n",
       "      <td>NaN</td>\n",
       "      <td>NaN</td>\n",
       "      <td>2014-01-06</td>\n",
       "      <td>...</td>\n",
       "      <td>5</td>\n",
       "      <td>35.0</td>\n",
       "      <td>15.0</td>\n",
       "      <td>0.00</td>\n",
       "      <td>15.0</td>\n",
       "      <td>0.92</td>\n",
       "      <td>3.283134</td>\n",
       "      <td>163.0</td>\n",
       "      <td>1500.0</td>\n",
       "      <td>44.0</td>\n",
       "    </tr>\n",
       "    <tr>\n",
       "      <th>295</th>\n",
       "      <td>Good</td>\n",
       "      <td>094-03-0327</td>\n",
       "      <td>U01229</td>\n",
       "      <td>bionaive TNF</td>\n",
       "      <td>cimzia</td>\n",
       "      <td>0.000000</td>\n",
       "      <td>NaN</td>\n",
       "      <td>NaN</td>\n",
       "      <td>NaN</td>\n",
       "      <td>2014-05-22</td>\n",
       "      <td>...</td>\n",
       "      <td>4</td>\n",
       "      <td>70.0</td>\n",
       "      <td>93.0</td>\n",
       "      <td>1.50</td>\n",
       "      <td>100.0</td>\n",
       "      <td>3.90</td>\n",
       "      <td>4.514125</td>\n",
       "      <td>198.0</td>\n",
       "      <td>1730.0</td>\n",
       "      <td>244.0</td>\n",
       "    </tr>\n",
       "  </tbody>\n",
       "</table>\n",
       "<p>296 rows × 101 columns</p>\n",
       "</div>"
      ],
      "text/plain": [
       "      3MResponse    SubjectID UNMC_id    init_group     grp  \\\n",
       "0           Good  001-01-0171  U00016  bionaive TNF  cimzia   \n",
       "1    No Response  001-01-0174  U00017  bionaive TNF  enbrel   \n",
       "2       Moderate  001-01-0177  U00018  bionaive TNF  enbrel   \n",
       "3       Moderate  001-01-0208  U00022  bionaive TNF  enbrel   \n",
       "4           Good  001-02-0163  U00026  bionaive TNF  humira   \n",
       "..           ...          ...     ...           ...     ...   \n",
       "291     Moderate  094-03-0314  U01220  bionaive TNF  humira   \n",
       "292     Moderate  094-03-0315  U01221  bionaive TNF  enbrel   \n",
       "293  No Response  094-03-0317  U01222  bionaive TNF  humira   \n",
       "294         Good  094-03-0324  U01227  bionaive TNF  humira   \n",
       "295         Good  094-03-0327  U01229  bionaive TNF  cimzia   \n",
       "\n",
       "     Type I IFN activity  IFNβ activity final  IFNα activity final  \\\n",
       "0               0.000000                  NaN                  NaN   \n",
       "1               0.814954             0.714954             0.714954   \n",
       "2               4.582632             2.869955             4.482632   \n",
       "3               0.015811                  NaN                  NaN   \n",
       "4               0.683486             0.583486             0.583486   \n",
       "..                   ...                  ...                  ...   \n",
       "291             0.379131             0.279131             0.279131   \n",
       "292             0.000000                  NaN                  NaN   \n",
       "293             0.000000                  NaN                  NaN   \n",
       "294             0.000000                  NaN                  NaN   \n",
       "295             0.000000                  NaN                  NaN   \n",
       "\n",
       "     IFNβ/α ratio final      CDate  ...  BLswollen_jts_28  BLmd_global_assess  \\\n",
       "0                   NaN 2012-06-25  ...                 3                35.0   \n",
       "1              1.000000 2013-03-25  ...                 3                35.0   \n",
       "2              0.640239 2012-09-13  ...                 6                40.0   \n",
       "3                   NaN 2014-04-08  ...                 9                55.0   \n",
       "4              1.000000 2012-04-23  ...                13                65.0   \n",
       "..                  ...        ...  ...               ...                 ...   \n",
       "291            1.000000 2013-04-24  ...                 9                70.0   \n",
       "292                 NaN 2013-04-19  ...                 7                55.0   \n",
       "293                 NaN 2013-05-15  ...                 6                35.0   \n",
       "294                 NaN 2014-01-06  ...                 5                35.0   \n",
       "295                 NaN 2014-05-22  ...                 4                70.0   \n",
       "\n",
       "     BLpt_global_assess  BLdi  BLpt_pain  BLusresultsCRP  DAS28-CRP BL  \\\n",
       "0                  10.0  0.00       10.0            4.41      3.444942   \n",
       "1                  17.0  0.25       25.0            1.19      2.935127   \n",
       "2                  10.0  0.00        5.0            0.40      2.698947   \n",
       "3                  50.0  0.25       60.0            1.00      3.719481   \n",
       "4                  20.0  0.25       65.0            0.25      4.425214   \n",
       "..                  ...   ...        ...             ...           ...   \n",
       "291                15.0  0.00       65.0            6.02      2.711555   \n",
       "292                80.0  1.00       80.0            7.33      5.167880   \n",
       "293                50.0  0.00       15.0           22.36      4.272186   \n",
       "294                15.0  0.00       15.0            0.92      3.283134   \n",
       "295                93.0  1.50      100.0            3.90      4.514125   \n",
       "\n",
       "     usresultsIgA.1  usresultsIgG.1  usresultsIgM.1  \n",
       "0             284.0          1640.0            94.0  \n",
       "1             207.0          1010.0            56.0  \n",
       "2             190.0           657.0           100.0  \n",
       "3              44.0           948.0            51.0  \n",
       "4             155.0           824.0            43.0  \n",
       "..              ...             ...             ...  \n",
       "291           125.0          1000.0            77.0  \n",
       "292           353.0           859.0           211.0  \n",
       "293           266.0          1330.0           253.0  \n",
       "294           163.0          1500.0            44.0  \n",
       "295           198.0          1730.0           244.0  \n",
       "\n",
       "[296 rows x 101 columns]"
      ]
     },
     "execution_count": 3,
     "metadata": {},
     "output_type": "execute_result"
    }
   ],
   "source": [
    "df"
   ]
  },
  {
   "cell_type": "code",
   "execution_count": 4,
   "id": "b1f71cc9",
   "metadata": {},
   "outputs": [],
   "source": [
    "df = df.drop(columns = ['SubjectID', 'CDate', 'Match'])    ### Unique values\n",
    "df = df.drop(columns = ['SubjectID.1', 'UNMC_id.1', 'CDate.1', 'init_group.1', 'grp.1', 'UNMC_id.2', 'grp.2', 'init_group.2', 'CDate.1', 'futime.1'])    ### Duplicate values\n",
    "df = df.drop(columns = ['init_group', 'futime'])    ### same values for all rows"
   ]
  },
  {
   "cell_type": "code",
   "execution_count": 5,
   "id": "f4412378",
   "metadata": {},
   "outputs": [
    {
     "data": {
      "text/plain": [
       "statin_use          1.000000\n",
       "smkyrs              0.753378\n",
       "numcigs             0.783784\n",
       "rfstatus_impute     0.996622\n",
       "ccpstatus_impute    0.972973\n",
       "statin_use.1        1.000000\n",
       "dtype: float64"
      ]
     },
     "execution_count": 5,
     "metadata": {},
     "output_type": "execute_result"
    }
   ],
   "source": [
    "df.isnull().mean()[df.isnull().mean() > 0.7]   "
   ]
  },
  {
   "cell_type": "code",
   "execution_count": 6,
   "id": "9098380d",
   "metadata": {},
   "outputs": [],
   "source": [
    "df = df.drop(columns = ['statin_use', 'rfstatus_impute', 'ccpstatus_impute', 'statin_use.1', 'smkyrs', 'numcigs'])  ### Dropping columns who have null values greater than 70%"
   ]
  },
  {
   "cell_type": "code",
   "execution_count": 7,
   "id": "466ead4e",
   "metadata": {},
   "outputs": [],
   "source": [
    "df = df.drop(columns = ['DAS28-CRP 3m', 'DAS28-CRP BL'])"
   ]
  },
  {
   "cell_type": "code",
   "execution_count": 8,
   "id": "34f2e8aa",
   "metadata": {},
   "outputs": [],
   "source": [
    "df = df.rename(columns={\"usresultsIgA.1\": \"usresultsIgA_BL\", \"usresultsIgG.1\": \"usresultsIgG_BL\", \"usresultsIgM.1\": \"usresultsIgM_BL\", 'seatedbp1.1': 'seatedbp1_BL',\n",
    "                              'seatedbp2.1': 'seatedbp2_BL', 'pres_mtx.1': 'pres_mtx_BL', 'pres_arava.1': 'pres_arava_BL', 'pres_azulfidine.1': 'pres_azulfidine_BL', \n",
    "                              'pres_plaquenil.1': 'pres_plaquenil_BL', 'pres_imuran.1': 'pres_imuran_BL', 'pres_minocin.1': 'pres_minocin_BL', 'pres_pred.1': 'pres_pred_BL',\n",
    "                              'statin_use.1': 'statin_use_BL', 'tender_jts_28.1': 'tender_jts_28_BL', 'BLswollen_jts_28': 'swollen_jts_28_BL',\n",
    "                              'BLmd_global_assess': 'md_global_assess_BL', 'BLpt_global_assess': 'pt_global_assess_BL', 'BLdi': 'di_BL', 'BLpt_pain': 'pt_pain_BL', 'BLusresultsCRP': 'usresultsCRP_BL',\n",
    "                              'DAS28-CRP BL': 'DAS28-CRP_BL', })     ### Renaming some columns. Not sure why - did it because previous student did it"
   ]
  },
  {
   "cell_type": "code",
   "execution_count": 9,
   "id": "08c68bb7",
   "metadata": {},
   "outputs": [
    {
     "name": "stderr",
     "output_type": "stream",
     "text": [
      "/state/partition1/job-14544487/ipykernel_3206223/2061900728.py:1: FutureWarning: In a future version of pandas all arguments of DataFrame.drop except for the argument 'labels' will be keyword-only\n",
      "  df = df.drop('UNMC_id',1)\n"
     ]
    }
   ],
   "source": [
    "df = df.drop('UNMC_id',1)\n",
    "final_df = df\n",
    "model_label = LabelEncoder()\n",
    "final_df['grp'] = model_label.fit_transform(final_df['grp'].astype('str'))\n",
    "final_df['gender'] = model_label.fit_transform(final_df['gender'].astype('str'))\n",
    "final_df['final_education'] = model_label.fit_transform(final_df['final_education'].astype('str'))\n",
    "final_df['race_grp'] = model_label.fit_transform(final_df['race_grp'].astype('str'))\n",
    "final_df['newsmoker'] = model_label.fit_transform(final_df['newsmoker'].astype('str'))\n",
    "final_df['drinker'] = model_label.fit_transform(final_df['drinker'].astype('str'))\n",
    "final_df['ara_func_class'] = model_label.fit_transform(final_df['ara_func_class'].astype('str'))"
   ]
  },
  {
   "cell_type": "code",
   "execution_count": 10,
   "id": "d01746f9",
   "metadata": {},
   "outputs": [
    {
     "name": "stderr",
     "output_type": "stream",
     "text": [
      "/state/partition1/job-14544487/ipykernel_3206223/977483231.py:2: FutureWarning: In a future version of pandas all arguments of DataFrame.drop except for the argument 'labels' will be keyword-only\n",
      "  X = final_df.drop('3MResponse',1)                            ### Dividing the dataframe into X and y set\n"
     ]
    }
   ],
   "source": [
    "final_df = final_df[final_df['3MResponse'] != 'Unknown']     ### We don't need unknown category in our classification data so removing that category\n",
    "X = final_df.drop('3MResponse',1)                            ### Dividing the dataframe into X and y set\n",
    "y = final_df['3MResponse']"
   ]
  },
  {
   "cell_type": "code",
   "execution_count": 11,
   "id": "7a69c1f0",
   "metadata": {},
   "outputs": [],
   "source": [
    "def KNN(new_df):\n",
    "    sys.setrecursionlimit(100000) \n",
    "    imputed_training=fast_knn(new_df.values, k=15)\n",
    "    return imputed_training\n",
    "imputed_training = KNN(X)\n",
    "c = list(X.columns)\n",
    "df_without_nulls = pd.DataFrame(imputed_training, columns=c)"
   ]
  },
  {
   "cell_type": "code",
   "execution_count": 12,
   "id": "42068a4d",
   "metadata": {},
   "outputs": [],
   "source": [
    "y = model_label.fit_transform(y.astype('str'))\n"
   ]
  },
  {
   "cell_type": "code",
   "execution_count": 13,
   "id": "94116c71",
   "metadata": {},
   "outputs": [],
   "source": [
    "labels = ['grp','gender','final_education','race_grp','newsmoker','drinker','ara_func_class']     ### normalizing the dataset\n",
    "\n",
    "for i in df_without_nulls.columns:\n",
    "    if i not in labels:\n",
    "        mean = df_without_nulls[i].mean()\n",
    "        std = df_without_nulls[i].std()\n",
    "        df_without_nulls[i] = (df_without_nulls[i] - mean) / std"
   ]
  },
  {
   "cell_type": "code",
   "execution_count": 14,
   "id": "1c4c8826",
   "metadata": {},
   "outputs": [
    {
     "name": "stderr",
     "output_type": "stream",
     "text": [
      "/state/partition1/job-14544487/ipykernel_3206223/1646036866.py:3: FutureWarning: In a future version of pandas all arguments of DataFrame.drop except for the argument 'labels' will be keyword-only\n",
      "  df_without_nulls = df_without_nulls.drop(i,1)\n"
     ]
    }
   ],
   "source": [
    "labels = ['pres_imuran','pres_minocin','num_tnf','num_nontnf','hxunstab_ang','pres_minocin_BL']    #### This columns has same value for every row so when I divide by mean and std the value goes to infinity\n",
    "for i in labels:\n",
    "    df_without_nulls = df_without_nulls.drop(i,1)"
   ]
  },
  {
   "cell_type": "code",
   "execution_count": 141,
   "id": "c33a4e05",
   "metadata": {},
   "outputs": [],
   "source": [
    "rs = 1006"
   ]
  },
  {
   "cell_type": "code",
   "execution_count": 142,
   "id": "29393409",
   "metadata": {},
   "outputs": [],
   "source": [
    "X_train_norm, X_val_norm, Y_train, Y_val = train_test_split(df_without_nulls, y, random_state=rs, test_size=0.1)     ### splitting the dataset into training and test set"
   ]
  },
  {
   "cell_type": "code",
   "execution_count": 143,
   "id": "11218070",
   "metadata": {},
   "outputs": [],
   "source": [
    "def sampling(over_under,X,y):\n",
    "    if over_under == 'under':\n",
    "        sampler = imblearn.under_sampling.RandomUnderSampler(random_state = rs)\n",
    "        X_under, y_under = sampler.fit_resample(X, y)\n",
    "        return X_under,y_under\n",
    "    elif over_under == 'over':\n",
    "        ros = RandomOverSampler(random_state=rs)\n",
    "        X_over, y_over = ros.fit_resample(X, y)\n",
    "        return X_over,y_over\n",
    "    else:\n",
    "        sampler = SMOTE()\n",
    "        X_smote, y_smote = sampler.fit_resample(X, y)\n",
    "        return X_smote,y_smote\n",
    "#print(X)\n",
    "#print(y)\n",
    "X_final,y_final = sampling('smote',X_train_norm,Y_train)"
   ]
  },
  {
   "cell_type": "code",
   "execution_count": 144,
   "id": "47fb0fa2",
   "metadata": {},
   "outputs": [
    {
     "name": "stderr",
     "output_type": "stream",
     "text": [
      "/ext3/miniconda3/lib/python3.9/site-packages/sklearn/linear_model/_sag.py:352: ConvergenceWarning: The max_iter was reached which means the coef_ did not converge\n",
      "  warnings.warn(\n",
      "/ext3/miniconda3/lib/python3.9/site-packages/sklearn/linear_model/_sag.py:352: ConvergenceWarning: The max_iter was reached which means the coef_ did not converge\n",
      "  warnings.warn(\n",
      "/ext3/miniconda3/lib/python3.9/site-packages/sklearn/linear_model/_sag.py:352: ConvergenceWarning: The max_iter was reached which means the coef_ did not converge\n",
      "  warnings.warn(\n",
      "/ext3/miniconda3/lib/python3.9/site-packages/sklearn/linear_model/_sag.py:352: ConvergenceWarning: The max_iter was reached which means the coef_ did not converge\n",
      "  warnings.warn(\n",
      "/ext3/miniconda3/lib/python3.9/site-packages/sklearn/linear_model/_sag.py:352: ConvergenceWarning: The max_iter was reached which means the coef_ did not converge\n",
      "  warnings.warn(\n",
      "/ext3/miniconda3/lib/python3.9/site-packages/sklearn/linear_model/_sag.py:352: ConvergenceWarning: The max_iter was reached which means the coef_ did not converge\n",
      "  warnings.warn(\n",
      "/ext3/miniconda3/lib/python3.9/site-packages/sklearn/linear_model/_sag.py:352: ConvergenceWarning: The max_iter was reached which means the coef_ did not converge\n",
      "  warnings.warn(\n",
      "/ext3/miniconda3/lib/python3.9/site-packages/sklearn/linear_model/_sag.py:352: ConvergenceWarning: The max_iter was reached which means the coef_ did not converge\n",
      "  warnings.warn(\n",
      "/ext3/miniconda3/lib/python3.9/site-packages/sklearn/linear_model/_sag.py:352: ConvergenceWarning: The max_iter was reached which means the coef_ did not converge\n",
      "  warnings.warn(\n",
      "/ext3/miniconda3/lib/python3.9/site-packages/sklearn/linear_model/_sag.py:352: ConvergenceWarning: The max_iter was reached which means the coef_ did not converge\n",
      "  warnings.warn(\n"
     ]
    },
    {
     "name": "stdout",
     "output_type": "stream",
     "text": [
      "sklearn::: [0.68965517 0.5862069  0.78571429 0.71428571 0.5        0.71428571\n",
      " 0.71428571 0.75       0.78571429 0.67857143] 0.6918719211822661\n",
      "Training accuracy is 0.8936170212765957\n",
      "Testing accuracy is 0.7857142857142857\n"
     ]
    },
    {
     "name": "stderr",
     "output_type": "stream",
     "text": [
      "/ext3/miniconda3/lib/python3.9/site-packages/sklearn/linear_model/_sag.py:352: ConvergenceWarning: The max_iter was reached which means the coef_ did not converge\n",
      "  warnings.warn(\n"
     ]
    }
   ],
   "source": [
    "from sklearn.model_selection import KFold\n",
    "from sklearn.model_selection import cross_val_score\n",
    "model5 = None\n",
    "def logistic_regress(X_train_norm, X_test, Y_train,Y_test):\n",
    "    global model5\n",
    "    model5 = sklearn.linear_model.LogisticRegression(multi_class='multinomial', solver='saga', penalty = 'elasticnet', C = 1, l1_ratio = 0.5, random_state=rs)\n",
    "    model5.fit(X_train_norm, Y_train)\n",
    "    kfold = StratifiedKFold(n_splits=10)\n",
    "    results = cross_val_score(model5, X_train_norm, Y_train, cv=10)\n",
    "    print(\"sklearn:::\", results, results.mean())\n",
    "    print(f\"Training accuracy is {model5.score(X_train_norm, Y_train)}\")\n",
    "    print(f\"Testing accuracy is {model5.score(X_test, Y_test)}\")\n",
    "    #sklearn.metrics.plot_confusion_matrix(model3, X_test, Y_test)\n",
    "    #sklearn.metrics.plot_roc_curve(model3, X_test, Y_test)\n",
    "logistic_regress(X_final, X_val_norm, y_final, Y_val)"
   ]
  },
  {
   "cell_type": "code",
   "execution_count": 104,
   "id": "1f1b3638",
   "metadata": {},
   "outputs": [
    {
     "name": "stderr",
     "output_type": "stream",
     "text": [
      "/ext3/miniconda3/lib/python3.9/site-packages/xgboost/sklearn.py:1224: UserWarning: The use of label encoder in XGBClassifier is deprecated and will be removed in a future release. To remove this warning, do the following: 1) Pass option use_label_encoder=False when constructing XGBClassifier object; and 2) Encode your labels (y) as integers starting with 0, i.e. 0, 1, 2, ..., [num_class - 1].\n",
      "  warnings.warn(label_encoder_deprecation_msg, UserWarning)\n"
     ]
    },
    {
     "name": "stdout",
     "output_type": "stream",
     "text": [
      "[21:32:30] WARNING: ../src/learner.cc:1115: Starting in XGBoost 1.3.0, the default evaluation metric used with the objective 'multi:softprob' was changed from 'merror' to 'mlogloss'. Explicitly set eval_metric if you'd like to restore the old behavior.\n"
     ]
    },
    {
     "name": "stderr",
     "output_type": "stream",
     "text": [
      "/ext3/miniconda3/lib/python3.9/site-packages/xgboost/sklearn.py:1224: UserWarning: The use of label encoder in XGBClassifier is deprecated and will be removed in a future release. To remove this warning, do the following: 1) Pass option use_label_encoder=False when constructing XGBClassifier object; and 2) Encode your labels (y) as integers starting with 0, i.e. 0, 1, 2, ..., [num_class - 1].\n",
      "  warnings.warn(label_encoder_deprecation_msg, UserWarning)\n"
     ]
    },
    {
     "name": "stdout",
     "output_type": "stream",
     "text": [
      "[21:32:30] WARNING: ../src/learner.cc:1115: Starting in XGBoost 1.3.0, the default evaluation metric used with the objective 'multi:softprob' was changed from 'merror' to 'mlogloss'. Explicitly set eval_metric if you'd like to restore the old behavior.\n"
     ]
    },
    {
     "name": "stderr",
     "output_type": "stream",
     "text": [
      "/ext3/miniconda3/lib/python3.9/site-packages/xgboost/sklearn.py:1224: UserWarning: The use of label encoder in XGBClassifier is deprecated and will be removed in a future release. To remove this warning, do the following: 1) Pass option use_label_encoder=False when constructing XGBClassifier object; and 2) Encode your labels (y) as integers starting with 0, i.e. 0, 1, 2, ..., [num_class - 1].\n",
      "  warnings.warn(label_encoder_deprecation_msg, UserWarning)\n"
     ]
    },
    {
     "name": "stdout",
     "output_type": "stream",
     "text": [
      "[21:32:31] WARNING: ../src/learner.cc:1115: Starting in XGBoost 1.3.0, the default evaluation metric used with the objective 'multi:softprob' was changed from 'merror' to 'mlogloss'. Explicitly set eval_metric if you'd like to restore the old behavior.\n"
     ]
    },
    {
     "name": "stderr",
     "output_type": "stream",
     "text": [
      "/ext3/miniconda3/lib/python3.9/site-packages/xgboost/sklearn.py:1224: UserWarning: The use of label encoder in XGBClassifier is deprecated and will be removed in a future release. To remove this warning, do the following: 1) Pass option use_label_encoder=False when constructing XGBClassifier object; and 2) Encode your labels (y) as integers starting with 0, i.e. 0, 1, 2, ..., [num_class - 1].\n",
      "  warnings.warn(label_encoder_deprecation_msg, UserWarning)\n"
     ]
    },
    {
     "name": "stdout",
     "output_type": "stream",
     "text": [
      "[21:32:31] WARNING: ../src/learner.cc:1115: Starting in XGBoost 1.3.0, the default evaluation metric used with the objective 'multi:softprob' was changed from 'merror' to 'mlogloss'. Explicitly set eval_metric if you'd like to restore the old behavior.\n"
     ]
    },
    {
     "name": "stderr",
     "output_type": "stream",
     "text": [
      "/ext3/miniconda3/lib/python3.9/site-packages/xgboost/sklearn.py:1224: UserWarning: The use of label encoder in XGBClassifier is deprecated and will be removed in a future release. To remove this warning, do the following: 1) Pass option use_label_encoder=False when constructing XGBClassifier object; and 2) Encode your labels (y) as integers starting with 0, i.e. 0, 1, 2, ..., [num_class - 1].\n",
      "  warnings.warn(label_encoder_deprecation_msg, UserWarning)\n"
     ]
    },
    {
     "name": "stdout",
     "output_type": "stream",
     "text": [
      "[21:32:32] WARNING: ../src/learner.cc:1115: Starting in XGBoost 1.3.0, the default evaluation metric used with the objective 'multi:softprob' was changed from 'merror' to 'mlogloss'. Explicitly set eval_metric if you'd like to restore the old behavior.\n"
     ]
    },
    {
     "name": "stderr",
     "output_type": "stream",
     "text": [
      "/ext3/miniconda3/lib/python3.9/site-packages/xgboost/sklearn.py:1224: UserWarning: The use of label encoder in XGBClassifier is deprecated and will be removed in a future release. To remove this warning, do the following: 1) Pass option use_label_encoder=False when constructing XGBClassifier object; and 2) Encode your labels (y) as integers starting with 0, i.e. 0, 1, 2, ..., [num_class - 1].\n",
      "  warnings.warn(label_encoder_deprecation_msg, UserWarning)\n"
     ]
    },
    {
     "name": "stdout",
     "output_type": "stream",
     "text": [
      "[21:32:32] WARNING: ../src/learner.cc:1115: Starting in XGBoost 1.3.0, the default evaluation metric used with the objective 'multi:softprob' was changed from 'merror' to 'mlogloss'. Explicitly set eval_metric if you'd like to restore the old behavior.\n"
     ]
    },
    {
     "name": "stderr",
     "output_type": "stream",
     "text": [
      "/ext3/miniconda3/lib/python3.9/site-packages/xgboost/sklearn.py:1224: UserWarning: The use of label encoder in XGBClassifier is deprecated and will be removed in a future release. To remove this warning, do the following: 1) Pass option use_label_encoder=False when constructing XGBClassifier object; and 2) Encode your labels (y) as integers starting with 0, i.e. 0, 1, 2, ..., [num_class - 1].\n",
      "  warnings.warn(label_encoder_deprecation_msg, UserWarning)\n"
     ]
    },
    {
     "name": "stdout",
     "output_type": "stream",
     "text": [
      "[21:32:33] WARNING: ../src/learner.cc:1115: Starting in XGBoost 1.3.0, the default evaluation metric used with the objective 'multi:softprob' was changed from 'merror' to 'mlogloss'. Explicitly set eval_metric if you'd like to restore the old behavior.\n"
     ]
    },
    {
     "name": "stderr",
     "output_type": "stream",
     "text": [
      "/ext3/miniconda3/lib/python3.9/site-packages/xgboost/sklearn.py:1224: UserWarning: The use of label encoder in XGBClassifier is deprecated and will be removed in a future release. To remove this warning, do the following: 1) Pass option use_label_encoder=False when constructing XGBClassifier object; and 2) Encode your labels (y) as integers starting with 0, i.e. 0, 1, 2, ..., [num_class - 1].\n",
      "  warnings.warn(label_encoder_deprecation_msg, UserWarning)\n"
     ]
    },
    {
     "name": "stdout",
     "output_type": "stream",
     "text": [
      "[21:32:33] WARNING: ../src/learner.cc:1115: Starting in XGBoost 1.3.0, the default evaluation metric used with the objective 'multi:softprob' was changed from 'merror' to 'mlogloss'. Explicitly set eval_metric if you'd like to restore the old behavior.\n"
     ]
    },
    {
     "name": "stderr",
     "output_type": "stream",
     "text": [
      "/ext3/miniconda3/lib/python3.9/site-packages/xgboost/sklearn.py:1224: UserWarning: The use of label encoder in XGBClassifier is deprecated and will be removed in a future release. To remove this warning, do the following: 1) Pass option use_label_encoder=False when constructing XGBClassifier object; and 2) Encode your labels (y) as integers starting with 0, i.e. 0, 1, 2, ..., [num_class - 1].\n",
      "  warnings.warn(label_encoder_deprecation_msg, UserWarning)\n"
     ]
    },
    {
     "name": "stdout",
     "output_type": "stream",
     "text": [
      "[21:32:34] WARNING: ../src/learner.cc:1115: Starting in XGBoost 1.3.0, the default evaluation metric used with the objective 'multi:softprob' was changed from 'merror' to 'mlogloss'. Explicitly set eval_metric if you'd like to restore the old behavior.\n"
     ]
    },
    {
     "name": "stderr",
     "output_type": "stream",
     "text": [
      "/ext3/miniconda3/lib/python3.9/site-packages/xgboost/sklearn.py:1224: UserWarning: The use of label encoder in XGBClassifier is deprecated and will be removed in a future release. To remove this warning, do the following: 1) Pass option use_label_encoder=False when constructing XGBClassifier object; and 2) Encode your labels (y) as integers starting with 0, i.e. 0, 1, 2, ..., [num_class - 1].\n",
      "  warnings.warn(label_encoder_deprecation_msg, UserWarning)\n"
     ]
    },
    {
     "name": "stdout",
     "output_type": "stream",
     "text": [
      "[21:32:34] WARNING: ../src/learner.cc:1115: Starting in XGBoost 1.3.0, the default evaluation metric used with the objective 'multi:softprob' was changed from 'merror' to 'mlogloss'. Explicitly set eval_metric if you'd like to restore the old behavior.\n"
     ]
    },
    {
     "name": "stderr",
     "output_type": "stream",
     "text": [
      "/ext3/miniconda3/lib/python3.9/site-packages/xgboost/sklearn.py:1224: UserWarning: The use of label encoder in XGBClassifier is deprecated and will be removed in a future release. To remove this warning, do the following: 1) Pass option use_label_encoder=False when constructing XGBClassifier object; and 2) Encode your labels (y) as integers starting with 0, i.e. 0, 1, 2, ..., [num_class - 1].\n",
      "  warnings.warn(label_encoder_deprecation_msg, UserWarning)\n"
     ]
    },
    {
     "name": "stdout",
     "output_type": "stream",
     "text": [
      "[21:32:35] WARNING: ../src/learner.cc:1115: Starting in XGBoost 1.3.0, the default evaluation metric used with the objective 'multi:softprob' was changed from 'merror' to 'mlogloss'. Explicitly set eval_metric if you'd like to restore the old behavior.\n",
      "sklearn::: [0.5862069  0.65517241 0.67857143 0.71428571 0.53571429 0.71428571\n",
      " 0.57142857 0.82142857 0.75       0.71428571] 0.6741379310344827\n",
      "Training accuracy is 0.9716312056737588\n",
      "Testing accuracy is 0.6785714285714286\n"
     ]
    }
   ],
   "source": [
    "#data_dmatrix = xgboost.DMatrix(data=X_final,label=y_final)\n",
    "model4 = None\n",
    "def xgboost(X_train_norm, X_test,Y_train, Y_test):\n",
    "    global model4\n",
    "    #model4 = XGBClassifier(n_estimators = 300, random_state=rs, max_depth=100, eta=0.5, gamma=15, min_child_weight=4, alpha=44, reg_lambda=0.44, colsample_bytree = 0.5, sampling_method = 'uniform')\n",
    "    model4 = XGBClassifier(n_estimators = 200, random_state=rs, subsample=0.8, max_depth=50, eta=0.5, gamma=1, min_child_weight=10, alpha=1)\n",
    "\n",
    "    model4.fit(X_train_norm, Y_train)\n",
    "    kfold = StratifiedKFold(n_splits=10)\n",
    "    results = cross_val_score(model4, X_train_norm, Y_train, cv=10)\n",
    "    print(\"sklearn:::\", results, results.mean())\n",
    "    print(f\"Training accuracy is {model4.score(X_train_norm, Y_train)}\")\n",
    "    print(f\"Testing accuracy is {model4.score(X_test, Y_test)}\")\n",
    "xgboost(X_final, X_val_norm, y_final, Y_val)"
   ]
  },
  {
   "cell_type": "code",
   "execution_count": 54,
   "id": "113fae46",
   "metadata": {},
   "outputs": [
    {
     "name": "stderr",
     "output_type": "stream",
     "text": [
      "/ext3/miniconda3/lib/python3.9/site-packages/sklearn/base.py:445: UserWarning: X does not have valid feature names, but RandomForestClassifier was fitted with feature names\n",
      "  warnings.warn(\n"
     ]
    },
    {
     "name": "stdout",
     "output_type": "stream",
     "text": [
      "0.6808510638297872\n",
      "Training accuracy is 0.9609929078014184\n",
      "Testing accuracy is 0.6785714285714286\n"
     ]
    }
   ],
   "source": [
    "model3 = None\n",
    "#print(model3)\n",
    "def random_forest(X_train_norm, X_test, Y_train,Y_test):\n",
    "    global model3\n",
    "    #print(model3)\n",
    "    model3 = sklearn.ensemble.RandomForestClassifier(n_estimators=474, oob_score = True, criterion='gini',max_depth=90, min_samples_split=10, random_state=rs, max_features='auto', min_samples_leaf = 6)\n",
    "    model3.fit(X_train_norm, Y_train)\n",
    "    print(model3.oob_score_)\n",
    "    print(f\"Training accuracy is {model3.score(X_train_norm, Y_train)}\")\n",
    "    print(f\"Testing accuracy is {model3.score(X_test, Y_test)}\")\n",
    "    #sklearn.metrics.plot_confusion_matrix(model3, X_test, Y_test)\n",
    "    #sklearn.metrics.plot_roc_curve(model3, X_test, Y_test)\n",
    "random_forest(X_final, X_val_norm, y_final, Y_val)"
   ]
  },
  {
   "cell_type": "code",
   "execution_count": 3,
   "id": "d5b4ef48",
   "metadata": {},
   "outputs": [
    {
     "data": {
      "image/png": "[encoded data removed]",
      "text/plain": [
       "<Figure size 432x288 with 1 Axes>"
      ]
     },
     "metadata": {
      "needs_background": "light"
     },
     "output_type": "display_data"
    },
    {
     "data": {
      "image/png": "[encoded data removed]",
      "text/plain": [
       "<Figure size 432x288 with 1 Axes>"
      ]
     },
     "metadata": {
      "needs_background": "light"
     },
     "output_type": "display_data"
    }
   ],
   "source": [
    "x = (0,1,2)\n",
    "y = (70.99, 67.85, 70.01)\n",
    "plt.figure()\n",
    "yerr = np.array([(2.81,1.5),(3.6, 3.7), (2.6, 3.1)]).T\n",
    "plt.errorbar(x, y, yerr, fmt='r^')\n",
    "plt.xlabel(\"Algorithms\")\n",
    "plt.ylabel(\"Accuracy in %\")\n",
    "plt.title(\"validation/oob score\")\n",
    "plt.text(3.5, 70, '0 = Logistric Regression', fontsize = 23)\n",
    "plt.text(3.5, 69, '1 = Random Forest', fontsize = 23)\n",
    "plt.text(3.5, 68, '2 = XGBoost', fontsize = 23)\n",
    "#plt.legend(['First line', 'Second line','Third Line'])\n",
    "plt.show()\n",
    "\n",
    "x_test = [0, 1, 2]\n",
    "y_test = [66.42, 64.63, 64.63]\n",
    "plt.figure()\n",
    "y_err_test = np.array([(16.42, 12.14),(21.78, 13.93), (21.78, 13.93)]).T\n",
    "plt.errorbar(x_test, y_test, y_err_test, fmt='r^')\n",
    "plt.title(\"test score\")\n",
    "plt.xlabel(\"Algorithms\")\n",
    "plt.ylabel(\"Accuracy in %\")\n",
    "plt.text(3.5, 70, '0 = Logistric Regression', fontsize = 23)\n",
    "plt.text(3.5, 65, '1 = Random Forest', fontsize = 23)\n",
    "plt.text(3.5, 60, '2 = XGBoost', fontsize = 23)\n",
    "plt.show()"
   ]
  },
  {
   "cell_type": "code",
   "execution_count": null,
   "id": "81cd185f",
   "metadata": {},
   "outputs": [],
   "source": []
  }
 ],
 "metadata": {
  "kernelspec": {
   "display_name": "Python 3 (ipykernel)",
   "language": "python",
   "name": "python3"
  },
  "language_info": {
   "codemirror_mode": {
    "name": "ipython",
    "version": 3
   },
   "file_extension": ".py",
   "mimetype": "text/x-python",
   "name": "python",
   "nbconvert_exporter": "python",
   "pygments_lexer": "ipython3",
   "version": "3.9.7"
  }
 },
 "nbformat": 4,
 "nbformat_minor": 5
}
