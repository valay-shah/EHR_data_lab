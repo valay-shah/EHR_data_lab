{
 "cells": [
  {
   "cell_type": "code",
   "execution_count": 4,
   "metadata": {},
   "outputs": [],
   "source": [
    "import numpy as np\n",
    "import pandas as pd\n",
    "import imblearn                                      \n",
    "from imblearn.over_sampling import RandomOverSampler\n",
    "from imblearn.over_sampling import SMOTE\n",
    "from sklearn.preprocessing import LabelEncoder\n",
    "from sklearn.model_selection import train_test_split\n",
    "from sklearn.impute import KNNImputer\n"
   ]
  },
  {
   "cell_type": "code",
   "execution_count": 11,
   "metadata": {},
   "outputs": [],
   "source": [
    "final_df = pd.read_csv('initial_preprocessing_reg.csv')"
   ]
  },
  {
   "cell_type": "code",
   "execution_count": 6,
   "metadata": {},
   "outputs": [],
   "source": [
    "var_test_datapoints = round(final_df.shape[0] * 0.1)\n",
    "df_nans = final_df[final_df['DAS28-CRP 3m'].isnull()]           ### making a new dataframe for unknown values in the target variable\n",
    "final_df = final_df[final_df['DAS28-CRP 3m'].notnull()]         ### Removing the unknown category       \n",
    "         "
   ]
  },
  {
   "cell_type": "code",
   "execution_count": 7,
   "metadata": {},
   "outputs": [
    {
     "name": "stderr",
     "output_type": "stream",
     "text": [
      "<ipython-input-7-39b7167b4040>:1: FutureWarning: In a future version of pandas all arguments of DataFrame.drop except for the argument 'labels' will be keyword-only\n",
      "  df_nans_x = df_nans.drop('DAS28-CRP 3m',1)\n"
     ]
    }
   ],
   "source": [
    "df_nans_x = df_nans.drop('DAS28-CRP 3m',1)\n",
    "df_nans_y = df_nans['DAS28-CRP 3m']"
   ]
  },
  {
   "cell_type": "code",
   "execution_count": 8,
   "metadata": {},
   "outputs": [
    {
     "name": "stderr",
     "output_type": "stream",
     "text": [
      "<ipython-input-8-d89d024094ce>:2: FutureWarning: In a future version of pandas all arguments of DataFrame.drop except for the argument 'labels' will be keyword-only\n",
      "  X = final_df.drop('DAS28-CRP 3m',1)                            ### Dividing the dataframe into X and y set\n"
     ]
    }
   ],
   "source": [
    "rs = 1337\n",
    "X = final_df.drop('DAS28-CRP 3m',1)                            ### Dividing the dataframe into X and y set\n",
    "y = final_df['DAS28-CRP 3m']\n",
    "X_train, X_test, Y_train, Y_test = train_test_split(X, y, test_size=var_test_datapoints,random_state = rs)\n",
    "combined_train_df_x = pd.concat([X_train, df_nans_x])"
   ]
  },
  {
   "cell_type": "code",
   "execution_count": 14,
   "metadata": {},
   "outputs": [],
   "source": [
    "from sklearn.impute import KNNImputer                         ### Imputing the null values using the X(features) values for both known and unknown values for the target variable\n",
    "imputer = KNNImputer(n_neighbors=15)\n",
    "fit_train = imputer.fit(combined_train_df_x)                  # (shape = 250,77) does not include target variable\n",
    "imput_train = fit_train.transform(combined_train_df_x)     \n",
    "c = list(combined_train_df_x.columns)\n",
    "imput_train_df = pd.DataFrame(imput_train, columns = c)\n",
    "\n",
    "imput_test = fit_train.transform(X_test)           ### Imputing the test dataset X(features) using the imputer trained from the train dataset\n",
    "c = list(X_test.columns)\n",
    "imput_test_df = pd.DataFrame(imput_test, columns = c)\n",
    "\n",
    "### combining X and y for the training set\n",
    "combined_train_df_y = pd.concat([Y_train, df_nans_y],ignore_index=True)\n",
    "imput_train_df['DAS28-CRP 3m'] = combined_train_df_y\n",
    "\n",
    "fit_train_x_y = imputer.fit(imput_train_df)        ### Imputing the unknown values in the target variable using the combined X and y of the training set\n",
    "imput_train_2 = fit_train_x_y.transform(imput_train_df)\n",
    "c = list(imput_train_df.columns)\n",
    "imput_train_df_x_y = pd.DataFrame(imput_train_2, columns = c)"
   ]
  },
  {
   "cell_type": "code",
   "execution_count": 15,
   "metadata": {},
   "outputs": [
    {
     "name": "stderr",
     "output_type": "stream",
     "text": [
      "<ipython-input-15-5794b32b7c14>:1: FutureWarning: In a future version of pandas all arguments of DataFrame.drop except for the argument 'labels' will be keyword-only\n",
      "  X_unknown = imput_train_df_x_y.drop('DAS28-CRP 3m',1)                            ### Dividing the dataframe into X and y and including the unknown datapoints\n"
     ]
    }
   ],
   "source": [
    "X_unknown = imput_train_df_x_y.drop('DAS28-CRP 3m',1)                            ### Dividing the dataframe into X and y and including the unknown datapoints\n",
    "y_unknown = imput_train_df_x_y['DAS28-CRP 3m']"
   ]
  },
  {
   "cell_type": "code",
   "execution_count": 17,
   "metadata": {},
   "outputs": [],
   "source": [
    "labels = ['grp','gender','final_education','race_grp','newsmoker','drinker','ara_func_class']     ### normalizing the dataset\n",
    "\n",
    "for i in X_unknown.columns:\n",
    "    if i not in labels:\n",
    "        mean = X_unknown[i].mean()\n",
    "        std = X_unknown[i].std()\n",
    "        X_unknown[i] = (X_unknown[i] - mean) / std\n",
    "        imput_test_df[i] = (imput_test_df[i] - mean) / std"
   ]
  },
  {
   "cell_type": "code",
   "execution_count": 18,
   "metadata": {},
   "outputs": [
    {
     "name": "stderr",
     "output_type": "stream",
     "text": [
      "<ipython-input-18-5fd5511c3b31>:3: FutureWarning: In a future version of pandas all arguments of DataFrame.drop except for the argument 'labels' will be keyword-only\n",
      "  X_unknown = X_unknown.drop(i,1)\n",
      "<ipython-input-18-5fd5511c3b31>:4: FutureWarning: In a future version of pandas all arguments of DataFrame.drop except for the argument 'labels' will be keyword-only\n",
      "  imput_test_df = imput_test_df.drop(i,1)\n"
     ]
    }
   ],
   "source": [
    "### Remove \"hxhtn\" feature here if the code is not running\n",
    "labels = ['pres_imuran','pres_minocin','num_tnf','num_nontnf','hxunstab_ang','pres_minocin_BL','ethnicity','hxstroke','pres_imuran_BL']    #### This columns has same value for every row so when I divide by mean and std the value goes to infinity\n",
    "for i in labels:\n",
    "    X_unknown = X_unknown.drop(i,1)\n",
    "    imput_test_df = imput_test_df.drop(i,1)"
   ]
  },
  {
   "cell_type": "code",
   "execution_count": 10,
   "metadata": {},
   "outputs": [],
   "source": [
    "X_unknown['y'] = y_unknown\n",
    "X_unknown.to_csv('train_method2_rg.csv', index = False)"
   ]
  },
  {
   "cell_type": "code",
   "execution_count": 16,
   "metadata": {},
   "outputs": [],
   "source": [
    "Y_test1 = Y_test.reset_index()\n",
    "Y_test1 = Y_test1.drop(columns=['index'])\n",
    "imput_test_df['y'] = Y_test1\n",
    "imput_test_df.to_csv('test_method2_rg.csv', index = False)"
   ]
  },
  {
   "cell_type": "code",
   "execution_count": null,
   "metadata": {},
   "outputs": [],
   "source": []
  }
 ],
 "metadata": {
  "kernelspec": {
   "display_name": "Python 3",
   "language": "python",
   "name": "python3"
  },
  "language_info": {
   "codemirror_mode": {
    "name": "ipython",
    "version": 3
   },
   "file_extension": ".py",
   "mimetype": "text/x-python",
   "name": "python",
   "nbconvert_exporter": "python",
   "pygments_lexer": "ipython3",
   "version": "3.8.5"
  }
 },
 "nbformat": 4,
 "nbformat_minor": 4
}
