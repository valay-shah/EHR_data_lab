{
 "cells": [
  {
   "cell_type": "code",
   "execution_count": 23,
   "metadata": {},
   "outputs": [],
   "source": [
    "import numpy as np\n",
    "import pandas as pd\n",
    "import json\n",
    "from tqdm.notebook import tqdm\n",
    "import matplotlib.pyplot as plt\n",
    "import pickle as pkl\n",
    "import imblearn\n",
    "from sklearn.datasets import load_boston\n",
    "import pandas as pd\n",
    "import numpy as np\n",
    "import matplotlib\n",
    "import matplotlib.pyplot as plt\n",
    "import seaborn as sns\n",
    "import statsmodels.api as sm\n",
    "%matplotlib inline\n",
    "import random\n",
    "from sklearn.preprocessing import LabelEncoder\n",
    "from sklearn.model_selection import train_test_split\n",
    "import sys                                               \n",
    "from impyute.imputation.cs import fast_knn\n",
    "import imblearn                                      \n",
    "from imblearn.over_sampling import RandomOverSampler\n",
    "from imblearn.over_sampling import SMOTE\n",
    "import sklearn\n",
    "import xgboost\n",
    "from xgboost import XGBClassifier            \n",
    "from xgboost import XGBRegressor\n",
    "import sklearn\n",
    "from sklearn.model_selection import StratifiedKFold\n",
    "from sklearn.model_selection import cross_val_score\n",
    "from xgboost import cv\n",
    "from sklearn.metrics import mean_squared_error, r2_score\n",
    "from sklearn.inspection import permutation_importance\n",
    "from sklearn import svm\n",
    "import sklearn.gaussian_process as gp"
   ]
  },
  {
   "cell_type": "code",
   "execution_count": 46,
   "metadata": {},
   "outputs": [],
   "source": [
    "excel = pd.ExcelFile('Coronna Data CERTAIN with KVB edits.xlsx')\n",
    "df = pd.read_excel(excel, 'BL+3M')"
   ]
  },
  {
   "cell_type": "code",
   "execution_count": 47,
   "metadata": {},
   "outputs": [],
   "source": [
    "df = df.drop(columns = ['SubjectID', 'CDate', 'Match'])    ### Unique values\n",
    "df = df.drop(columns = ['SubjectID.1', 'UNMC_id.1', 'CDate.1', 'init_group.1', 'grp.1', 'UNMC_id.2', 'grp.2', 'init_group.2', 'CDate.1', 'futime.1'])    ### Duplicate values\n",
    "df = df.drop(columns = ['init_group', 'futime'])    ### same values for all rows"
   ]
  },
  {
   "cell_type": "code",
   "execution_count": 48,
   "metadata": {},
   "outputs": [],
   "source": [
    "df = df.drop(columns = ['statin_use', 'rfstatus_impute', 'ccpstatus_impute', 'statin_use.1', 'smkyrs', 'numcigs'])  ### Dropping columns who have null values greater than 70%"
   ]
  },
  {
   "cell_type": "code",
   "execution_count": 49,
   "metadata": {},
   "outputs": [],
   "source": [
    "df = df.rename(columns={\"usresultsIgA.1\": \"usresultsIgA_BL\", \"usresultsIgG.1\": \"usresultsIgG_BL\", \"usresultsIgM.1\": \"usresultsIgM_BL\", 'seatedbp1.1': 'seatedbp1_BL',\n",
    "                              'seatedbp2.1': 'seatedbp2_BL', 'pres_mtx.1': 'pres_mtx_BL', 'pres_arava.1': 'pres_arava_BL', 'pres_azulfidine.1': 'pres_azulfidine_BL', \n",
    "                              'pres_plaquenil.1': 'pres_plaquenil_BL', 'pres_imuran.1': 'pres_imuran_BL', 'pres_minocin.1': 'pres_minocin_BL', 'pres_pred.1': 'pres_pred_BL',\n",
    "                              'statin_use.1': 'statin_use_BL', 'tender_jts_28.1': 'tender_jts_28_BL', 'BLswollen_jts_28': 'swollen_jts_28_BL',\n",
    "                              'BLmd_global_assess': 'md_global_assess_BL', 'BLpt_global_assess': 'pt_global_assess_BL', 'BLdi': 'di_BL', 'BLpt_pain': 'pt_pain_BL', 'BLusresultsCRP': 'usresultsCRP_BL',\n",
    "                              'DAS28-CRP BL': 'DAS28-CRP_BL', })     ### Renaming some columns. Not sure why - did it because previous student did it"
   ]
  },
  {
   "cell_type": "code",
   "execution_count": 50,
   "metadata": {},
   "outputs": [],
   "source": [
    "df = df.drop(columns = ['seatedbp1', 'seatedbp2', 'pres_mtx', 'pres_arava', 'pres_azulfidine', 'pres_plaquenil',\n",
    "                           'pres_pred', 'md_global_assess', 'pt_global_assess', 'di', 'pt_pain', 'usresultsIgA', \n",
    "                           'usresultsIgG', 'usresultsIgM'])"
   ]
  },
  {
   "cell_type": "code",
   "execution_count": 51,
   "metadata": {},
   "outputs": [
    {
     "name": "stderr",
     "output_type": "stream",
     "text": [
      "<ipython-input-51-f80c6ef2a649>:1: FutureWarning: In a future version of pandas all arguments of DataFrame.drop except for the argument 'labels' will be keyword-only\n",
      "  df = df.drop('UNMC_id',1)\n"
     ]
    }
   ],
   "source": [
    "df = df.drop('UNMC_id',1)\n",
    "final_df = df\n",
    "model_label = LabelEncoder()\n",
    "final_df['grp'] = model_label.fit_transform(final_df['grp'].astype('str'))\n",
    "final_df['gender'] = model_label.fit_transform(final_df['gender'].astype('str'))\n",
    "final_df['final_education'] = model_label.fit_transform(final_df['final_education'].astype('str'))\n",
    "final_df['race_grp'] = model_label.fit_transform(final_df['race_grp'].astype('str'))\n",
    "final_df['newsmoker'] = model_label.fit_transform(final_df['newsmoker'].astype('str'))\n",
    "final_df['drinker'] = model_label.fit_transform(final_df['drinker'].astype('str'))\n",
    "final_df['ara_func_class'] = model_label.fit_transform(final_df['ara_func_class'].astype('str'))"
   ]
  },
  {
   "cell_type": "code",
   "execution_count": 52,
   "metadata": {},
   "outputs": [],
   "source": [
    "final_df = final_df[final_df['DAS28-CRP 3m'].notnull()]"
   ]
  },
  {
   "cell_type": "code",
   "execution_count": 53,
   "metadata": {},
   "outputs": [
    {
     "name": "stderr",
     "output_type": "stream",
     "text": [
      "<ipython-input-53-cbd1a78ea90f>:2: FutureWarning: In a future version of pandas all arguments of DataFrame.drop except for the argument 'labels' will be keyword-only\n",
      "  X = final_df.drop('DAS28-CRP 3m',1)                            ### Dividing the dataframe into X and y set\n"
     ]
    }
   ],
   "source": [
    "rs = 1337\n",
    "X = final_df.drop('DAS28-CRP 3m',1)                            ### Dividing the dataframe into X and y set\n",
    "y = final_df['DAS28-CRP 3m']\n",
    "X_train, X_test, Y_train, Y_test = train_test_split(X, y, test_size=0.1,random_state = rs)\n"
   ]
  },
  {
   "cell_type": "code",
   "execution_count": 54,
   "metadata": {},
   "outputs": [
    {
     "name": "stderr",
     "output_type": "stream",
     "text": [
      "<ipython-input-54-f1739b216d05>:5: FutureWarning: In a future version of pandas all arguments of DataFrame.drop except for the argument 'labels' will be keyword-only\n",
      "  X_train = X_train.drop('DAS28-CRP_BL',1)\n",
      "<ipython-input-54-f1739b216d05>:6: FutureWarning: In a future version of pandas all arguments of DataFrame.drop except for the argument 'labels' will be keyword-only\n",
      "  X_train = X_train.drop('3MResponse',1)\n",
      "<ipython-input-54-f1739b216d05>:7: FutureWarning: In a future version of pandas all arguments of DataFrame.drop except for the argument 'labels' will be keyword-only\n",
      "  X_test = X_test.drop('DAS28-CRP_BL',1)\n",
      "<ipython-input-54-f1739b216d05>:8: FutureWarning: In a future version of pandas all arguments of DataFrame.drop except for the argument 'labels' will be keyword-only\n",
      "  X_test = X_test.drop('3MResponse',1)\n"
     ]
    }
   ],
   "source": [
    "train_das = X_train['DAS28-CRP_BL']\n",
    "train_3m = X_train['3MResponse']\n",
    "test_das = X_test['DAS28-CRP_BL']\n",
    "test_3m = X_test['3MResponse']\n",
    "X_train = X_train.drop('DAS28-CRP_BL',1)\n",
    "X_train = X_train.drop('3MResponse',1)\n",
    "X_test = X_test.drop('DAS28-CRP_BL',1)\n",
    "X_test = X_test.drop('3MResponse',1)"
   ]
  },
  {
   "cell_type": "code",
   "execution_count": 55,
   "metadata": {},
   "outputs": [],
   "source": [
    "from sklearn.impute import KNNImputer\n",
    "imputer = KNNImputer(n_neighbors=15)                     ### Imputing the null values using KNN with neighbors as 15\n",
    "fit_train = imputer.fit(X_train)\n",
    "imput_train = fit_train.transform(X_train)\n",
    "c = list(X_train.columns)\n",
    "imput_train_df = pd.DataFrame(imput_train, columns = c)"
   ]
  },
  {
   "cell_type": "code",
   "execution_count": 56,
   "metadata": {},
   "outputs": [],
   "source": [
    "imput_test = fit_train.transform(X_test)                 ### Imputing the test set using the training set\n",
    "c = list(X_test.columns)\n",
    "imput_test_df = pd.DataFrame(imput_test, columns = c)"
   ]
  },
  {
   "cell_type": "code",
   "execution_count": 57,
   "metadata": {},
   "outputs": [],
   "source": [
    "labels = ['grp','gender','final_education','race_grp','newsmoker','drinker','ara_func_class']     ### normalizing the dataset\n",
    "\n",
    "for i in imput_train_df.columns:\n",
    "    if i not in labels:\n",
    "        mean = imput_train_df[i].mean()\n",
    "        std = imput_train_df[i].std()\n",
    "        imput_train_df[i] = (imput_train_df[i] - mean) / std\n",
    "        imput_test_df[i] = (imput_test_df[i] - mean) / std"
   ]
  },
  {
   "cell_type": "code",
   "execution_count": 58,
   "metadata": {},
   "outputs": [
    {
     "name": "stderr",
     "output_type": "stream",
     "text": [
      "<ipython-input-58-649ae34e813e>:3: FutureWarning: In a future version of pandas all arguments of DataFrame.drop except for the argument 'labels' will be keyword-only\n",
      "  imput_train_df = imput_train_df.drop(i,1)\n",
      "<ipython-input-58-649ae34e813e>:4: FutureWarning: In a future version of pandas all arguments of DataFrame.drop except for the argument 'labels' will be keyword-only\n",
      "  imput_test_df = imput_test_df.drop(i,1)\n"
     ]
    }
   ],
   "source": [
    "labels = ['pres_imuran','pres_minocin','num_tnf','num_nontnf','hxunstab_ang','pres_minocin_BL','ethnicity','hxstroke','pres_imuran_BL']    #### This columns has same value for every row so when I divide by mean and std the value goes to infinity\n",
    "for i in labels:\n",
    "    imput_train_df = imput_train_df.drop(i,1)\n",
    "    imput_test_df = imput_test_df.drop(i,1)"
   ]
  },
  {
   "cell_type": "code",
   "execution_count": 15,
   "metadata": {},
   "outputs": [
    {
     "name": "stdout",
     "output_type": "stream",
     "text": [
      "[2.00833835 4.43480425 3.47251208 4.10144789 2.65006424 1.71659124\n",
      " 2.34894489 3.10200262 2.65767942 2.22817168 2.01889788 2.77581941\n",
      " 2.78988205 2.86824819 3.29086015 2.19467767 3.18176373 2.57566737\n",
      " 2.18801458 3.3531775  1.91980679 3.38465355 2.00667217 5.11028481\n",
      " 2.32009013 3.25145131 2.58539387 3.52789968]\n",
      "Mean squared error: 0.22457049016946043 Root Mean squared error: 0.4738886896407852\n",
      "Validation accuracy is 0.7394991161402362\n",
      "Training accuracy is 0.8682391926842955\n",
      "Testing accuracy is 0.7765942273411557\n",
      "[0.8060179451788347, 0.1420280912489824, 0.11115258835908123, 0.015844873274604366, 0.015388858729171484, 0.01522196979253917, 0.011703219632694838, 0.011370871582193432, 0.011360710496224325, 0.010082469869941046]\n"
     ]
    },
    {
     "data": {
      "image/png": "[encoded data removed]",
      "text/plain": [
       "<Figure size 432x288 with 1 Axes>"
      ]
     },
     "metadata": {
      "needs_background": "light"
     },
     "output_type": "display_data"
    }
   ],
   "source": [
    "ridge_reg = None\n",
    "preds_rr = None\n",
    "arr_x = []\n",
    "arr_y = []\n",
    "def ridge_reg(X_train, X_test, Y_train,Y_test):\n",
    "    global ridge_reg\n",
    "    global preds_rr\n",
    "    ridge_reg = sklearn.linear_model.Ridge(random_state = rs)\n",
    "    ridge_reg.fit(X_train, Y_train)\n",
    "    results = cross_val_score(ridge_reg, X_train, Y_train, cv=10, scoring=\"r2\")\n",
    "    preds_rr = ridge_reg.predict(X_test)\n",
    "    print(\"Mean squared error:\", mean_squared_error(Y_test,preds),\"Root Mean squared error:\", np.sqrt(mean_squared_error(Y_test,preds)))\n",
    "    print(\"Validation accuracy is\", results.mean())\n",
    "    print(f\"Training accuracy is {ridge_reg.score(X_train, Y_train)}\")\n",
    "    print(f\"Testing accuracy is {ridge_reg.score(X_test, Y_test)}\")\n",
    "    result = permutation_importance(ridge_reg, X_train, Y_train, n_repeats=10, random_state=0, n_jobs=2)\n",
    "    sorted_index = result.importances_mean.argsort()\n",
    "    top10 = sorted_index[-10:]\n",
    "    feature_names = list(X_train.columns)\n",
    "    top10 = top10[::-1]\n",
    "    global arr_x\n",
    "    global arr_y\n",
    "    arr_x = []\n",
    "    arr_y = []\n",
    "    for i in top10:\n",
    "        arr_x.append( result.importances_mean[i])\n",
    "        arr_y.append(feature_names[i])\n",
    "    print(arr_x)\n",
    "    plt.barh(arr_y, arr_x)\n",
    "    plt.show()\n",
    "ridge_reg(imput_train_df, imput_test_df,Y_train, Y_test)"
   ]
  },
  {
   "cell_type": "code",
   "execution_count": 59,
   "metadata": {
    "scrolled": false
   },
   "outputs": [
    {
     "name": "stderr",
     "output_type": "stream",
     "text": [
      "C:\\Users\\valay\\anaconda3\\lib\\site-packages\\sklearn\\base.py:441: UserWarning: X does not have valid feature names, but RandomForestRegressor was fitted with feature names\n",
      "  warnings.warn(\n",
      "C:\\Users\\valay\\anaconda3\\lib\\site-packages\\sklearn\\base.py:441: UserWarning: X does not have valid feature names, but RandomForestRegressor was fitted with feature names\n",
      "  warnings.warn(\n",
      "C:\\Users\\valay\\anaconda3\\lib\\site-packages\\sklearn\\base.py:441: UserWarning: X does not have valid feature names, but RandomForestRegressor was fitted with feature names\n",
      "  warnings.warn(\n",
      "C:\\Users\\valay\\anaconda3\\lib\\site-packages\\sklearn\\base.py:441: UserWarning: X does not have valid feature names, but RandomForestRegressor was fitted with feature names\n",
      "  warnings.warn(\n",
      "C:\\Users\\valay\\anaconda3\\lib\\site-packages\\sklearn\\base.py:441: UserWarning: X does not have valid feature names, but RandomForestRegressor was fitted with feature names\n",
      "  warnings.warn(\n",
      "C:\\Users\\valay\\anaconda3\\lib\\site-packages\\sklearn\\base.py:441: UserWarning: X does not have valid feature names, but RandomForestRegressor was fitted with feature names\n",
      "  warnings.warn(\n",
      "C:\\Users\\valay\\anaconda3\\lib\\site-packages\\sklearn\\base.py:441: UserWarning: X does not have valid feature names, but RandomForestRegressor was fitted with feature names\n",
      "  warnings.warn(\n",
      "C:\\Users\\valay\\anaconda3\\lib\\site-packages\\sklearn\\base.py:441: UserWarning: X does not have valid feature names, but RandomForestRegressor was fitted with feature names\n",
      "  warnings.warn(\n",
      "C:\\Users\\valay\\anaconda3\\lib\\site-packages\\sklearn\\base.py:441: UserWarning: X does not have valid feature names, but RandomForestRegressor was fitted with feature names\n",
      "  warnings.warn(\n",
      "C:\\Users\\valay\\anaconda3\\lib\\site-packages\\sklearn\\base.py:441: UserWarning: X does not have valid feature names, but RandomForestRegressor was fitted with feature names\n",
      "  warnings.warn(\n",
      "C:\\Users\\valay\\anaconda3\\lib\\site-packages\\sklearn\\base.py:441: UserWarning: X does not have valid feature names, but RandomForestRegressor was fitted with feature names\n",
      "  warnings.warn(\n",
      "C:\\Users\\valay\\anaconda3\\lib\\site-packages\\sklearn\\base.py:441: UserWarning: X does not have valid feature names, but RandomForestRegressor was fitted with feature names\n",
      "  warnings.warn(\n",
      "C:\\Users\\valay\\anaconda3\\lib\\site-packages\\sklearn\\base.py:441: UserWarning: X does not have valid feature names, but RandomForestRegressor was fitted with feature names\n",
      "  warnings.warn(\n",
      "C:\\Users\\valay\\anaconda3\\lib\\site-packages\\sklearn\\base.py:441: UserWarning: X does not have valid feature names, but RandomForestRegressor was fitted with feature names\n",
      "  warnings.warn(\n",
      "C:\\Users\\valay\\anaconda3\\lib\\site-packages\\sklearn\\base.py:441: UserWarning: X does not have valid feature names, but RandomForestRegressor was fitted with feature names\n",
      "  warnings.warn(\n",
      "C:\\Users\\valay\\anaconda3\\lib\\site-packages\\sklearn\\base.py:441: UserWarning: X does not have valid feature names, but RandomForestRegressor was fitted with feature names\n",
      "  warnings.warn(\n",
      "C:\\Users\\valay\\anaconda3\\lib\\site-packages\\sklearn\\base.py:441: UserWarning: X does not have valid feature names, but RandomForestRegressor was fitted with feature names\n",
      "  warnings.warn(\n",
      "C:\\Users\\valay\\anaconda3\\lib\\site-packages\\sklearn\\base.py:441: UserWarning: X does not have valid feature names, but RandomForestRegressor was fitted with feature names\n",
      "  warnings.warn(\n",
      "C:\\Users\\valay\\anaconda3\\lib\\site-packages\\sklearn\\base.py:441: UserWarning: X does not have valid feature names, but RandomForestRegressor was fitted with feature names\n",
      "  warnings.warn(\n",
      "C:\\Users\\valay\\anaconda3\\lib\\site-packages\\sklearn\\base.py:441: UserWarning: X does not have valid feature names, but RandomForestRegressor was fitted with feature names\n",
      "  warnings.warn(\n",
      "C:\\Users\\valay\\anaconda3\\lib\\site-packages\\sklearn\\base.py:441: UserWarning: X does not have valid feature names, but RandomForestRegressor was fitted with feature names\n",
      "  warnings.warn(\n",
      "C:\\Users\\valay\\anaconda3\\lib\\site-packages\\sklearn\\base.py:441: UserWarning: X does not have valid feature names, but RandomForestRegressor was fitted with feature names\n",
      "  warnings.warn(\n",
      "C:\\Users\\valay\\anaconda3\\lib\\site-packages\\sklearn\\base.py:441: UserWarning: X does not have valid feature names, but RandomForestRegressor was fitted with feature names\n",
      "  warnings.warn(\n",
      "C:\\Users\\valay\\anaconda3\\lib\\site-packages\\sklearn\\base.py:441: UserWarning: X does not have valid feature names, but RandomForestRegressor was fitted with feature names\n",
      "  warnings.warn(\n",
      "C:\\Users\\valay\\anaconda3\\lib\\site-packages\\sklearn\\base.py:441: UserWarning: X does not have valid feature names, but RandomForestRegressor was fitted with feature names\n",
      "  warnings.warn(\n",
      "C:\\Users\\valay\\anaconda3\\lib\\site-packages\\sklearn\\base.py:441: UserWarning: X does not have valid feature names, but RandomForestRegressor was fitted with feature names\n",
      "  warnings.warn(\n",
      "C:\\Users\\valay\\anaconda3\\lib\\site-packages\\sklearn\\base.py:441: UserWarning: X does not have valid feature names, but RandomForestRegressor was fitted with feature names\n",
      "  warnings.warn(\n",
      "C:\\Users\\valay\\anaconda3\\lib\\site-packages\\sklearn\\base.py:441: UserWarning: X does not have valid feature names, but RandomForestRegressor was fitted with feature names\n",
      "  warnings.warn(\n",
      "C:\\Users\\valay\\anaconda3\\lib\\site-packages\\sklearn\\base.py:441: UserWarning: X does not have valid feature names, but RandomForestRegressor was fitted with feature names\n",
      "  warnings.warn(\n",
      "C:\\Users\\valay\\anaconda3\\lib\\site-packages\\sklearn\\base.py:441: UserWarning: X does not have valid feature names, but RandomForestRegressor was fitted with feature names\n",
      "  warnings.warn(\n",
      "C:\\Users\\valay\\anaconda3\\lib\\site-packages\\sklearn\\base.py:441: UserWarning: X does not have valid feature names, but RandomForestRegressor was fitted with feature names\n",
      "  warnings.warn(\n",
      "C:\\Users\\valay\\anaconda3\\lib\\site-packages\\sklearn\\base.py:441: UserWarning: X does not have valid feature names, but RandomForestRegressor was fitted with feature names\n",
      "  warnings.warn(\n",
      "C:\\Users\\valay\\anaconda3\\lib\\site-packages\\sklearn\\base.py:441: UserWarning: X does not have valid feature names, but RandomForestRegressor was fitted with feature names\n",
      "  warnings.warn(\n",
      "C:\\Users\\valay\\anaconda3\\lib\\site-packages\\sklearn\\base.py:441: UserWarning: X does not have valid feature names, but RandomForestRegressor was fitted with feature names\n",
      "  warnings.warn(\n",
      "C:\\Users\\valay\\anaconda3\\lib\\site-packages\\sklearn\\base.py:441: UserWarning: X does not have valid feature names, but RandomForestRegressor was fitted with feature names\n",
      "  warnings.warn(\n",
      "C:\\Users\\valay\\anaconda3\\lib\\site-packages\\sklearn\\base.py:441: UserWarning: X does not have valid feature names, but RandomForestRegressor was fitted with feature names\n",
      "  warnings.warn(\n",
      "C:\\Users\\valay\\anaconda3\\lib\\site-packages\\sklearn\\base.py:441: UserWarning: X does not have valid feature names, but RandomForestRegressor was fitted with feature names\n",
      "  warnings.warn(\n",
      "C:\\Users\\valay\\anaconda3\\lib\\site-packages\\sklearn\\base.py:441: UserWarning: X does not have valid feature names, but RandomForestRegressor was fitted with feature names\n",
      "  warnings.warn(\n",
      "C:\\Users\\valay\\anaconda3\\lib\\site-packages\\sklearn\\base.py:441: UserWarning: X does not have valid feature names, but RandomForestRegressor was fitted with feature names\n",
      "  warnings.warn(\n",
      "C:\\Users\\valay\\anaconda3\\lib\\site-packages\\sklearn\\base.py:441: UserWarning: X does not have valid feature names, but RandomForestRegressor was fitted with feature names\n",
      "  warnings.warn(\n",
      "C:\\Users\\valay\\anaconda3\\lib\\site-packages\\sklearn\\base.py:441: UserWarning: X does not have valid feature names, but RandomForestRegressor was fitted with feature names\n",
      "  warnings.warn(\n",
      "C:\\Users\\valay\\anaconda3\\lib\\site-packages\\sklearn\\base.py:441: UserWarning: X does not have valid feature names, but RandomForestRegressor was fitted with feature names\n",
      "  warnings.warn(\n",
      "C:\\Users\\valay\\anaconda3\\lib\\site-packages\\sklearn\\base.py:441: UserWarning: X does not have valid feature names, but RandomForestRegressor was fitted with feature names\n",
      "  warnings.warn(\n",
      "C:\\Users\\valay\\anaconda3\\lib\\site-packages\\sklearn\\base.py:441: UserWarning: X does not have valid feature names, but RandomForestRegressor was fitted with feature names\n",
      "  warnings.warn(\n"
     ]
    },
    {
     "name": "stderr",
     "output_type": "stream",
     "text": [
      "C:\\Users\\valay\\anaconda3\\lib\\site-packages\\sklearn\\base.py:441: UserWarning: X does not have valid feature names, but RandomForestRegressor was fitted with feature names\n",
      "  warnings.warn(\n",
      "C:\\Users\\valay\\anaconda3\\lib\\site-packages\\sklearn\\base.py:441: UserWarning: X does not have valid feature names, but RandomForestRegressor was fitted with feature names\n",
      "  warnings.warn(\n",
      "C:\\Users\\valay\\anaconda3\\lib\\site-packages\\sklearn\\base.py:441: UserWarning: X does not have valid feature names, but RandomForestRegressor was fitted with feature names\n",
      "  warnings.warn(\n",
      "C:\\Users\\valay\\anaconda3\\lib\\site-packages\\sklearn\\base.py:441: UserWarning: X does not have valid feature names, but RandomForestRegressor was fitted with feature names\n",
      "  warnings.warn(\n",
      "C:\\Users\\valay\\anaconda3\\lib\\site-packages\\sklearn\\base.py:441: UserWarning: X does not have valid feature names, but RandomForestRegressor was fitted with feature names\n",
      "  warnings.warn(\n",
      "C:\\Users\\valay\\anaconda3\\lib\\site-packages\\sklearn\\base.py:441: UserWarning: X does not have valid feature names, but RandomForestRegressor was fitted with feature names\n",
      "  warnings.warn(\n",
      "C:\\Users\\valay\\anaconda3\\lib\\site-packages\\sklearn\\base.py:441: UserWarning: X does not have valid feature names, but RandomForestRegressor was fitted with feature names\n",
      "  warnings.warn(\n",
      "C:\\Users\\valay\\anaconda3\\lib\\site-packages\\sklearn\\base.py:441: UserWarning: X does not have valid feature names, but RandomForestRegressor was fitted with feature names\n",
      "  warnings.warn(\n",
      "C:\\Users\\valay\\anaconda3\\lib\\site-packages\\sklearn\\base.py:441: UserWarning: X does not have valid feature names, but RandomForestRegressor was fitted with feature names\n",
      "  warnings.warn(\n",
      "C:\\Users\\valay\\anaconda3\\lib\\site-packages\\sklearn\\base.py:441: UserWarning: X does not have valid feature names, but RandomForestRegressor was fitted with feature names\n",
      "  warnings.warn(\n",
      "C:\\Users\\valay\\anaconda3\\lib\\site-packages\\sklearn\\base.py:441: UserWarning: X does not have valid feature names, but RandomForestRegressor was fitted with feature names\n",
      "  warnings.warn(\n",
      "C:\\Users\\valay\\anaconda3\\lib\\site-packages\\sklearn\\base.py:441: UserWarning: X does not have valid feature names, but RandomForestRegressor was fitted with feature names\n",
      "  warnings.warn(\n",
      "C:\\Users\\valay\\anaconda3\\lib\\site-packages\\sklearn\\base.py:441: UserWarning: X does not have valid feature names, but RandomForestRegressor was fitted with feature names\n",
      "  warnings.warn(\n",
      "C:\\Users\\valay\\anaconda3\\lib\\site-packages\\sklearn\\base.py:441: UserWarning: X does not have valid feature names, but RandomForestRegressor was fitted with feature names\n",
      "  warnings.warn(\n",
      "C:\\Users\\valay\\anaconda3\\lib\\site-packages\\sklearn\\base.py:441: UserWarning: X does not have valid feature names, but RandomForestRegressor was fitted with feature names\n",
      "  warnings.warn(\n",
      "C:\\Users\\valay\\anaconda3\\lib\\site-packages\\sklearn\\base.py:441: UserWarning: X does not have valid feature names, but RandomForestRegressor was fitted with feature names\n",
      "  warnings.warn(\n",
      "C:\\Users\\valay\\anaconda3\\lib\\site-packages\\sklearn\\base.py:441: UserWarning: X does not have valid feature names, but RandomForestRegressor was fitted with feature names\n",
      "  warnings.warn(\n",
      "C:\\Users\\valay\\anaconda3\\lib\\site-packages\\sklearn\\base.py:441: UserWarning: X does not have valid feature names, but RandomForestRegressor was fitted with feature names\n",
      "  warnings.warn(\n",
      "C:\\Users\\valay\\anaconda3\\lib\\site-packages\\sklearn\\base.py:441: UserWarning: X does not have valid feature names, but RandomForestRegressor was fitted with feature names\n",
      "  warnings.warn(\n",
      "C:\\Users\\valay\\anaconda3\\lib\\site-packages\\sklearn\\base.py:441: UserWarning: X does not have valid feature names, but RandomForestRegressor was fitted with feature names\n",
      "  warnings.warn(\n",
      "C:\\Users\\valay\\anaconda3\\lib\\site-packages\\sklearn\\base.py:441: UserWarning: X does not have valid feature names, but RandomForestRegressor was fitted with feature names\n",
      "  warnings.warn(\n",
      "C:\\Users\\valay\\anaconda3\\lib\\site-packages\\sklearn\\base.py:441: UserWarning: X does not have valid feature names, but RandomForestRegressor was fitted with feature names\n",
      "  warnings.warn(\n"
     ]
    },
    {
     "name": "stdout",
     "output_type": "stream",
     "text": [
      "prediction [1.4857822  4.44262818 3.1833974  4.25808007 2.83189446 1.61046948\n",
      " 2.8755064  3.45857145 1.6133867  2.20154994 2.8230505  1.81186329\n",
      " 3.47537931 3.23240406 3.39668945 1.46683239 2.46539375 2.6256946\n",
      " 2.52511573 2.22075258 2.03565133 3.55002905 1.55102463 5.10208303\n",
      " 2.68432023 3.22881739 2.34886235 3.18625159]\n",
      "Mean squared error: 0.15280421028818258 Root Mean squared error: 0.39090179110383033\n",
      "Validation accuracy is: 0.8838214781990074\n",
      "Training accuracy is 0.9548649438866114\n",
      "Testing accuracy is 0.8479882969521241\n",
      "[1.1684709230515369, 0.14837501183925528, 0.09747753355459336, 0.015667763520357057, 0.006343866502004436, 0.0030508123093313743, 0.0025884868249523964, 0.0020223897798980484, 0.0017542836591618815, 0.001485922176486787]\n"
     ]
    },
    {
     "data": {
      "image/png": "[encoded data removed]",
      "text/plain": [
       "<Figure size 432x288 with 1 Axes>"
      ]
     },
     "metadata": {
      "needs_background": "light"
     },
     "output_type": "display_data"
    }
   ],
   "source": [
    "from sklearn.ensemble import StackingRegressor\n",
    "st_reg = None\n",
    "preds_sr = None\n",
    "arr_y_sr = []\n",
    "def stacking_regressor(X_train, X_test,Y_train, Y_test):\n",
    "    global st_reg\n",
    "    global preds_sr\n",
    "    rr = sklearn.linear_model.Ridge(random_state = rs)\n",
    "    SVR = svm.SVR(kernel = 'rbf')\n",
    "    xgb = XGBRegressor(n_estimators = 200, subsample=0.8, max_depth=50, eta=0.5, gamma=1, min_child_weight=10, alpha=1, random_state=rs)   \n",
    "    rf = sklearn.ensemble.RandomForestRegressor(n_estimators=474, oob_score = True, criterion='squared_error',max_depth=90, min_samples_split=10, max_features='auto', min_samples_leaf = 6, random_state = rs)\n",
    "    NB = gp.GaussianProcessRegressor(n_restarts_optimizer=10, alpha=0.1, normalize_y=True)\n",
    "    #knn = KNeighborsRegressor(n_neighbors=10)\n",
    "    st_reg = StackingRegressor(estimators =[('xgb',xgb),('rf',rf),('svr',SVR),('NB',NB)], final_estimator = rr)\n",
    "    st_reg = st_reg.fit(X_train, Y_train)\n",
    "    kfold = StratifiedKFold(n_splits=10)\n",
    "    results = cross_val_score(st_reg, X_train, Y_train, cv=10)\n",
    "    preds_sr = st_reg.predict(X_test)\n",
    "    print(\"prediction\",preds2)\n",
    "    print(\"Mean squared error:\", mean_squared_error(Y_test,preds2),\"Root Mean squared error:\", np.sqrt(mean_squared_error(Y_test,preds2)))\n",
    "    print(\"Validation accuracy is:\", results.mean())\n",
    "    print(f\"Training accuracy is {st_reg.score(X_train, Y_train)}\")\n",
    "    print(f\"Testing accuracy is {st_reg.score(X_test, Y_test)}\")\n",
    "    result = permutation_importance(st_reg, X_train, Y_train, n_repeats=10, random_state=0, n_jobs=2)\n",
    "    sorted_index = result.importances_mean.argsort()\n",
    "    top10 = sorted_index[-10:]\n",
    "    feature_names = list(X_train.columns)\n",
    "    top10 = top10[::-1]\n",
    "    arr_x = []\n",
    "    global arr_y_sr\n",
    "    #arr_y = []\n",
    "    for i in top10:\n",
    "        arr_x.append( result.importances_mean[i])\n",
    "        arr_y_sr.append(feature_names[i])\n",
    "    print(arr_x)\n",
    "    plt.barh(arr_y_sr, arr_x)\n",
    "    plt.show()\n",
    "stacking_regressor(imput_train_df, imput_test_df,Y_train, Y_test)"
   ]
  },
  {
   "cell_type": "code",
   "execution_count": 17,
   "metadata": {},
   "outputs": [
    {
     "name": "stderr",
     "output_type": "stream",
     "text": [
      "C:\\Users\\valay\\anaconda3\\lib\\site-packages\\sklearn\\base.py:441: UserWarning: X does not have valid feature names, but RandomForestRegressor was fitted with feature names\n",
      "  warnings.warn(\n"
     ]
    },
    {
     "name": "stdout",
     "output_type": "stream",
     "text": [
      "[1.73121252 4.24917232 3.16323212 4.31834074 2.83357443 1.7533584\n",
      " 3.12797376 3.34520466 1.76824246 2.23543846 3.01888806 1.78793846\n",
      " 3.17636489 2.78524876 3.47720825 1.59298906 2.35101464 2.54577226\n",
      " 2.9642925  2.51741269 2.34447659 3.40406179 1.64058132 4.99137928\n",
      " 2.89479859 3.38527813 2.37707721 3.32490391]\n",
      "Mean squared error: 0.15580875990862988 Root Mean squared error: 0.39472618345966093\n",
      "Validation accuracy is 0.8704557351653949\n",
      "Training accuracy is 0.9427481154553584\n",
      "Testing accuracy is 0.8449993301963347\n",
      "[1.3810829330331569, 0.10635964925744545, 0.0413617212086498, 0.007214504701981572, 0.00441276268968287, 0.0023048537080840314, 0.0017527207649705944, 0.0016549761747088221, 0.0013781322410338804, 0.0013525713600840649]\n"
     ]
    },
    {
     "data": {
      "image/png": "[encoded data removed]",
      "text/plain": [
       "<Figure size 432x288 with 1 Axes>"
      ]
     },
     "metadata": {
      "needs_background": "light"
     },
     "output_type": "display_data"
    }
   ],
   "source": [
    "rf_model = None\n",
    "preds_rf = None\n",
    "def random_forest(X_train, X_test, Y_train,Y_test):\n",
    "    global rf_model\n",
    "    rf_model = sklearn.ensemble.RandomForestRegressor(n_estimators=474, oob_score = True, criterion='squared_error',max_depth=90, min_samples_split=10, random_state=rs, max_features='auto', min_samples_leaf = 6)\n",
    "    rf_model.fit(X_train, Y_train)\n",
    "    global preds_rf\n",
    "    preds_rf = rf_model.predict(X_test)\n",
    "    \n",
    "    print(preds1)\n",
    "    print(\"Mean squared error:\", mean_squared_error(Y_test,preds1),\"Root Mean squared error:\", np.sqrt(mean_squared_error(Y_test,preds1)))\n",
    "    print(\"Validation accuracy is\", rf_model.oob_score_)\n",
    "    print(f\"Training accuracy is {rf_model.score(X_train, Y_train)}\")\n",
    "    print(f\"Testing accuracy is {rf_model.score(X_test, Y_test)}\")\n",
    "    result = permutation_importance(rf_model, X_train, Y_train, n_repeats=10, random_state=0, n_jobs=2)\n",
    "    sorted_index = result.importances_mean.argsort()\n",
    "    top10 = sorted_index[-10:]\n",
    "    feature_names = list(X_train.columns)\n",
    "    top10 = top10[::-1]\n",
    "    arr_x = []\n",
    "    arr_y = []\n",
    "    for i in top10:\n",
    "        arr_x.append( result.importances_mean[i])\n",
    "        arr_y.append(feature_names[i])\n",
    "    print(arr_x)\n",
    "    plt.barh(arr_y, arr_x)\n",
    "    plt.show()\n",
    "random_forest(imput_train_df, imput_test_df,Y_train, Y_test)"
   ]
  },
  {
   "cell_type": "code",
   "execution_count": 38,
   "metadata": {},
   "outputs": [],
   "source": [
    "for i in range(len(test_3m)):\n",
    "    #print(test_3m.iloc[i])\n",
    "    if test_3m.iloc[i] == \"Good\":\n",
    "        test_3m.iloc[i] = 2\n",
    "    elif test_3m.iloc[i] == \"Moderate\":\n",
    "        test_3m.iloc[i] = 1\n",
    "    else:\n",
    "        test_3m.iloc[i] = 0\n",
    "        "
   ]
  },
  {
   "cell_type": "code",
   "execution_count": 42,
   "metadata": {},
   "outputs": [],
   "source": [
    "Y_test1 = Y_test.reset_index()\n",
    "Y_test1 = Y_test1.drop(columns=['index'])\n",
    "imput_test_df['actual'] = Y_test1\n",
    "imput_test_df['preds'] = preds_rr                        ### change here the preds_xx variable in order to replace the prediction values for different models\n",
    "Y_test2 = test_das.reset_index()\n",
    "Y_test2 = Y_test2.drop(columns=['index'])\n",
    "imput_test_df['das'] = Y_test2\n",
    "Y_test3 = test_3m.reset_index()\n",
    "Y_test3 = Y_test3.drop(columns=['index'])\n",
    "imput_test_df['3m'] = Y_test3"
   ]
  },
  {
   "cell_type": "code",
   "execution_count": 44,
   "metadata": {},
   "outputs": [],
   "source": [
    "def responseClassify(row):\n",
    "    \n",
    "    change = abs(row['das'] - row['preds'] )\n",
    "    #print(change)\n",
    "    if row['preds'] > 5.1:\n",
    "        #return 2\n",
    "        if change > 1.2:\n",
    "            return 0\n",
    "        elif (change > 0.6) & (change <= 1.2):\n",
    "            return 2\n",
    "        elif change <= 0.6:\n",
    "            return 2\n",
    "    elif (row['preds'] <= 5.1) & (row['preds'] > 3.2):\n",
    "        #return 1\n",
    "        if change > 1.2:\n",
    "            return 0\n",
    "        elif (change > 0.6) & (change <= 1.2):\n",
    "            return 0\n",
    "        elif change <= 0.6:\n",
    "            return 2\n",
    "    elif row['preds'] < 3.2:\n",
    "        #return 0\n",
    "        if change > 1.2:\n",
    "            return 1\n",
    "        elif (change > 0.6) & (change <= 1.2):\n",
    "            return 0\n",
    "        elif change <= 0.6:\n",
    "            return 2\n"
   ]
  },
  {
   "cell_type": "code",
   "execution_count": 43,
   "metadata": {},
   "outputs": [],
   "source": [
    "def responseClassify_original(row):\n",
    "    \n",
    "    change = abs(row['das'] - row['preds'] )\n",
    "    if change > 1.2:\n",
    "        return 2\n",
    "    elif (change > 0.6) & (change <= 1.2):\n",
    "        return 1\n",
    "    elif change <= 0.6:\n",
    "        return 0\n"
   ]
  },
  {
   "cell_type": "code",
   "execution_count": null,
   "metadata": {},
   "outputs": [],
   "source": [
    "imput_test_df['prediction_response'] = imput_test_df.apply(lambda row: responseClassify_original(row), axis = 1)"
   ]
  },
  {
   "cell_type": "code",
   "execution_count": 45,
   "metadata": {},
   "outputs": [
    {
     "name": "stdout",
     "output_type": "stream",
     "text": [
      "[2, 1, 0, 1, 2, 2, 2, 2, 2, 2, 2, 2, 2, 2, 2, 2, 0, 2, 2, 2, 2, 2, 2, 1, 2, 2, 2, 2]\n",
      "0.7142857142857143\n"
     ]
    }
   ],
   "source": [
    "print(list(imput_test_df['prediction_response']))\n",
    "count = 0\n",
    "for i in range(len(imput_test_df['prediction_response'])):\n",
    "    if imput_test_df['prediction_response'][i] == imput_test_df['3m'][i]:\n",
    "        count += 1\n",
    "print(count/28)"
   ]
  },
  {
   "cell_type": "code",
   "execution_count": null,
   "metadata": {},
   "outputs": [],
   "source": []
  }
 ],
 "metadata": {
  "kernelspec": {
   "display_name": "Python 3",
   "language": "python",
   "name": "python3"
  },
  "language_info": {
   "codemirror_mode": {
    "name": "ipython",
    "version": 3
   },
   "file_extension": ".py",
   "mimetype": "text/x-python",
   "name": "python",
   "nbconvert_exporter": "python",
   "pygments_lexer": "ipython3",
   "version": "3.8.5"
  }
 },
 "nbformat": 4,
 "nbformat_minor": 4
}
