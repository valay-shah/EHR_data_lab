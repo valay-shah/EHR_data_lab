{
 "cells": [
  {
   "cell_type": "code",
   "execution_count": 86,
   "metadata": {},
   "outputs": [],
   "source": [
    "import numpy as np\n",
    "import pandas as pd\n",
    "import imblearn                                      \n",
    "from imblearn.over_sampling import RandomOverSampler\n",
    "from imblearn.over_sampling import SMOTE\n",
    "from sklearn.preprocessing import LabelEncoder\n",
    "from sklearn.model_selection import train_test_split\n",
    "from sklearn.impute import KNNImputer\n"
   ]
  },
  {
   "cell_type": "code",
   "execution_count": 87,
   "metadata": {},
   "outputs": [],
   "source": [
    "final_df = pd.read_csv('initial_preprocessing_clas.csv')"
   ]
  },
  {
   "cell_type": "code",
   "execution_count": 88,
   "metadata": {},
   "outputs": [],
   "source": [
    "var_test_datapoints = round(final_df.shape[0] * 0.1)\n",
    "df_nans = final_df[final_df['3MResponse'] == 'Unknown']          ### making a new dataframe for unknown values in the target variable\n",
    "final_df = final_df[final_df['3MResponse'] != 'Unknown']         ### Removing the unknown category \n",
    "model_label = LabelEncoder()\n",
    "final_df['3MResponse'] = model_label.fit_transform(final_df['3MResponse'].astype('str'))    ### encoding the target variable\n"
   ]
  },
  {
   "cell_type": "code",
   "execution_count": 89,
   "metadata": {},
   "outputs": [
    {
     "name": "stderr",
     "output_type": "stream",
     "text": [
      "<ipython-input-89-c22e693e6c25>:1: FutureWarning: In a future version of pandas all arguments of DataFrame.drop except for the argument 'labels' will be keyword-only\n",
      "  df_nans_x = df_nans.drop('3MResponse',1)            ### separting x and y for the target variables having unknown\n"
     ]
    }
   ],
   "source": [
    "df_nans_x = df_nans.drop('3MResponse',1)            ### separting x and y for the target variables having unknown\n",
    "df_nans_y = df_nans['3MResponse']"
   ]
  },
  {
   "cell_type": "code",
   "execution_count": 90,
   "metadata": {},
   "outputs": [
    {
     "name": "stderr",
     "output_type": "stream",
     "text": [
      "<ipython-input-90-4ae165d2306b>:2: FutureWarning: In a future version of pandas all arguments of DataFrame.drop except for the argument 'labels' will be keyword-only\n",
      "  X = final_df.drop('3MResponse',1)                            ### Dividing the dataframe into X and y set\n"
     ]
    }
   ],
   "source": [
    "rs = 1337                                            ### Change random state in order to produce different results\n",
    "X = final_df.drop('3MResponse',1)                            ### Dividing the dataframe into X and y set\n",
    "y = final_df['3MResponse']\n",
    "X_train, X_test, Y_train, Y_test = train_test_split(X, y, test_size=var_test_datapoints,random_state = rs)\n",
    "combined_train_df_x = pd.concat([X_train, df_nans_x])"
   ]
  },
  {
   "cell_type": "code",
   "execution_count": 91,
   "metadata": {},
   "outputs": [],
   "source": [
    "from sklearn.impute import KNNImputer                         ### Imputing the null values using the X(features) values for both known and unknown values for the target variable\n",
    "imputer = KNNImputer(n_neighbors=15)\n",
    "fit_train = imputer.fit(combined_train_df_x)                  # (shape = 250,77) does not include target variable\n",
    "imput_train = fit_train.transform(combined_train_df_x)     \n",
    "c = list(combined_train_df_x.columns)\n",
    "imput_train_df = pd.DataFrame(imput_train, columns = c)\n",
    "\n",
    "imput_test = fit_train.transform(X_test)           ### Imputing the test dataset X(features) using the imputer trained from the train dataset\n",
    "c = list(X_test.columns)\n",
    "imput_test_df = pd.DataFrame(imput_test, columns = c)\n",
    "\n",
    "df_nans_y = df_nans_y.replace('Unknown', np.nan)            ### combining X and y for the training set\n",
    "combined_train_df_y = pd.concat([Y_train, df_nans_y],ignore_index=True)\n",
    "imput_train_df['3MResponse'] = combined_train_df_y\n",
    "\n",
    "fit_train_x_y = imputer.fit(imput_train_df)        ### Imputing the unknown values in the target variable using the combined X and y of the training set\n",
    "imput_train_2 = fit_train_x_y.transform(imput_train_df)\n",
    "c = list(imput_train_df.columns)\n",
    "imput_train_df_x_y = pd.DataFrame(imput_train_2, columns = c)"
   ]
  },
  {
   "cell_type": "code",
   "execution_count": 92,
   "metadata": {},
   "outputs": [],
   "source": [
    "for i in range(len(imput_train_df_x_y['3MResponse'])):             ### converting the target variable into integers\n",
    "    if imput_train_df_x_y['3MResponse'][i] <= 0.5: \n",
    "        imput_train_df_x_y['3MResponse'][i] = 0\n",
    "    elif imput_train_df_x_y['3MResponse'][i] >0.5 and imput_train_df_x_y['3MResponse'][i]<=1.5:\n",
    "        imput_train_df_x_y['3MResponse'][i] = 1\n",
    "    else:\n",
    "        imput_train_df_x_y['3MResponse'][i] = 2"
   ]
  },
  {
   "cell_type": "code",
   "execution_count": 93,
   "metadata": {},
   "outputs": [
    {
     "name": "stderr",
     "output_type": "stream",
     "text": [
      "<ipython-input-93-b9bc94796b0b>:1: FutureWarning: In a future version of pandas all arguments of DataFrame.drop except for the argument 'labels' will be keyword-only\n",
      "  X_unknown = imput_train_df_x_y.drop('3MResponse',1)                            ### Dividing the dataframe into X and y and including the unknown datapoints\n"
     ]
    }
   ],
   "source": [
    "X_unknown = imput_train_df_x_y.drop('3MResponse',1)                            ### Dividing the dataframe into X and y and including the unknown datapoints\n",
    "y_unknown = imput_train_df_x_y['3MResponse']"
   ]
  },
  {
   "cell_type": "code",
   "execution_count": 94,
   "metadata": {},
   "outputs": [],
   "source": [
    "labels = ['grp','gender','final_education','race_grp','newsmoker','drinker','ara_func_class']     ### normalizing the dataset\n",
    "\n",
    "for i in X_unknown.columns:\n",
    "    if i not in labels:\n",
    "        mean = X_unknown[i].mean()\n",
    "        std = X_unknown[i].std()\n",
    "        X_unknown[i] = (X_unknown[i] - mean) / std\n",
    "        imput_test_df[i] = (imput_test_df[i] - mean) / std"
   ]
  },
  {
   "cell_type": "code",
   "execution_count": 95,
   "metadata": {},
   "outputs": [
    {
     "name": "stderr",
     "output_type": "stream",
     "text": [
      "<ipython-input-95-dd1de88e422f>:3: FutureWarning: In a future version of pandas all arguments of DataFrame.drop except for the argument 'labels' will be keyword-only\n",
      "  X_unknown = X_unknown.drop(i,1)\n",
      "<ipython-input-95-dd1de88e422f>:4: FutureWarning: In a future version of pandas all arguments of DataFrame.drop except for the argument 'labels' will be keyword-only\n",
      "  imput_test_df = imput_test_df.drop(i,1)\n"
     ]
    }
   ],
   "source": [
    "labels = ['pres_imuran','pres_minocin','num_tnf','num_nontnf','hxunstab_ang','pres_minocin_BL','ethnicity','hxstroke','pres_imuran_BL','hxtia']    #### This columns has same value for every row so when I divide by mean and std the value goes to infinity\n",
    "for i in labels:\n",
    "    X_unknown = X_unknown.drop(i,1)\n",
    "    imput_test_df = imput_test_df.drop(i,1)"
   ]
  },
  {
   "cell_type": "code",
   "execution_count": 96,
   "metadata": {},
   "outputs": [],
   "source": [
    "def sampling(over_under,X,y):                                                ### Over sampling the dataset using smote method\n",
    "    if over_under == 'under':\n",
    "        sampler = imblearn.under_sampling.RandomUnderSampler()\n",
    "        X_under, y_under = sampler.fit_resample(X, y)\n",
    "        return X_under,y_under\n",
    "    elif over_under == 'over':\n",
    "        ros = RandomOverSampler(random_state=rs)\n",
    "        X_over, y_over = ros.fit_resample(X, y)\n",
    "        return X_over,y_over\n",
    "    else:\n",
    "        sampler = SMOTE(random_state = rs)\n",
    "        X_smote, y_smote = sampler.fit_resample(X, y)\n",
    "        return X_smote,y_smote\n",
    "X_train_final,y_train_final = sampling('smote',X_unknown,y_unknown)"
   ]
  },
  {
   "cell_type": "code",
   "execution_count": 98,
   "metadata": {},
   "outputs": [],
   "source": [
    "X_train_final['y'] = y_train_final\n",
    "X_train_final.to_csv('train_method3_cf.csv', index = False)"
   ]
  },
  {
   "cell_type": "code",
   "execution_count": 99,
   "metadata": {},
   "outputs": [],
   "source": [
    "Y_test1 = Y_test.reset_index()\n",
    "Y_test1 = Y_test1.drop(columns=['index'])\n",
    "imput_test_df['y'] = Y_test1\n",
    "imput_test_df.to_csv('test_method3_cf.csv', index = False)"
   ]
  },
  {
   "cell_type": "code",
   "execution_count": null,
   "metadata": {},
   "outputs": [],
   "source": []
  }
 ],
 "metadata": {
  "kernelspec": {
   "display_name": "Python 3",
   "language": "python",
   "name": "python3"
  },
  "language_info": {
   "codemirror_mode": {
    "name": "ipython",
    "version": 3
   },
   "file_extension": ".py",
   "mimetype": "text/x-python",
   "name": "python",
   "nbconvert_exporter": "python",
   "pygments_lexer": "ipython3",
   "version": "3.8.5"
  }
 },
 "nbformat": 4,
 "nbformat_minor": 4
}
