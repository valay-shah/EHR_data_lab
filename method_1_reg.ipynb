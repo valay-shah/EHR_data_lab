{
 "cells": [
  {
   "cell_type": "code",
   "execution_count": 1,
   "metadata": {},
   "outputs": [],
   "source": [
    "import numpy as np\n",
    "import pandas as pd\n",
    "import imblearn                                      \n",
    "from imblearn.over_sampling import RandomOverSampler\n",
    "from imblearn.over_sampling import SMOTE\n",
    "from sklearn.preprocessing import LabelEncoder\n",
    "from sklearn.model_selection import train_test_split\n",
    "from sklearn.impute import KNNImputer"
   ]
  },
  {
   "cell_type": "code",
   "execution_count": 2,
   "metadata": {},
   "outputs": [],
   "source": [
    "data = pd.read_csv('initial_preprocessing_reg.csv')\n",
    "data = data[data['DAS28-CRP 3m'].notnull()]    ### We don't need unknown category for method-1\n"
   ]
  },
  {
   "cell_type": "code",
   "execution_count": 4,
   "metadata": {},
   "outputs": [
    {
     "name": "stderr",
     "output_type": "stream",
     "text": [
      "<ipython-input-4-6aac00e6f16e>:2: FutureWarning: In a future version of pandas all arguments of DataFrame.drop except for the argument 'labels' will be keyword-only\n",
      "  X = data.drop('DAS28-CRP 3m',1)                            ### Dividing the dataframe into X and y set\n"
     ]
    }
   ],
   "source": [
    "rs = 1337\n",
    "X = data.drop('DAS28-CRP 3m',1)                            ### Dividing the dataframe into X and y set\n",
    "y = data['DAS28-CRP 3m']\n",
    "X_train, X_test, Y_train, Y_test = train_test_split(X, y, test_size=0.1,random_state = rs)"
   ]
  },
  {
   "cell_type": "code",
   "execution_count": 7,
   "metadata": {},
   "outputs": [],
   "source": [
    "imputer = KNNImputer(n_neighbors=15)                     ### Imputing the null values using KNN with neighbors as 15\n",
    "fit_train = imputer.fit(X_train)\n",
    "imput_train = fit_train.transform(X_train)\n",
    "c = list(X_train.columns)\n",
    "imput_train_df = pd.DataFrame(imput_train, columns = c)"
   ]
  },
  {
   "cell_type": "code",
   "execution_count": 8,
   "metadata": {},
   "outputs": [],
   "source": [
    "imput_test = fit_train.transform(X_test)                 ### Imputing the test set using the training set\n",
    "c = list(X_test.columns)\n",
    "imput_test_df = pd.DataFrame(imput_test, columns = c)"
   ]
  },
  {
   "cell_type": "code",
   "execution_count": 10,
   "metadata": {},
   "outputs": [],
   "source": [
    "labels = ['grp','gender','final_education','race_grp','newsmoker','drinker','ara_func_class']     ### normalizing the dataset\n",
    "\n",
    "for i in imput_train_df.columns:\n",
    "    if i not in labels:\n",
    "        mean = imput_train_df[i].mean()\n",
    "        std = imput_train_df[i].std()\n",
    "        imput_train_df[i] = (imput_train_df[i] - mean) / std\n",
    "        imput_test_df[i] = (imput_test_df[i] - mean) / std"
   ]
  },
  {
   "cell_type": "code",
   "execution_count": 11,
   "metadata": {},
   "outputs": [
    {
     "name": "stderr",
     "output_type": "stream",
     "text": [
      "<ipython-input-11-649ae34e813e>:3: FutureWarning: In a future version of pandas all arguments of DataFrame.drop except for the argument 'labels' will be keyword-only\n",
      "  imput_train_df = imput_train_df.drop(i,1)\n",
      "<ipython-input-11-649ae34e813e>:4: FutureWarning: In a future version of pandas all arguments of DataFrame.drop except for the argument 'labels' will be keyword-only\n",
      "  imput_test_df = imput_test_df.drop(i,1)\n"
     ]
    }
   ],
   "source": [
    "### Remove \"hxhtn\" feature here if the code is not running\n",
    "labels = ['pres_imuran','pres_minocin','num_tnf','num_nontnf','hxunstab_ang','pres_minocin_BL','ethnicity','hxstroke','pres_imuran_BL']    #### This columns has same value for every row so when I divide by mean and std the value goes to infinity\n",
    "for i in labels:\n",
    "    imput_train_df = imput_train_df.drop(i,1)\n",
    "    imput_test_df = imput_test_df.drop(i,1)"
   ]
  },
  {
   "cell_type": "code",
   "execution_count": 12,
   "metadata": {},
   "outputs": [],
   "source": [
    "Y_train1 = Y_train.reset_index()\n",
    "Y_train1 = Y_train1.drop(columns=['index'])"
   ]
  },
  {
   "cell_type": "code",
   "execution_count": 14,
   "metadata": {},
   "outputs": [],
   "source": [
    "Y_train1 = Y_train.reset_index()\n",
    "Y_train1 = Y_train1.drop(columns=['index'])\n",
    "imput_train_df['y'] = Y_train1\n",
    "imput_train_df.to_csv('train_method1_rg.csv', index = False)"
   ]
  },
  {
   "cell_type": "code",
   "execution_count": 15,
   "metadata": {},
   "outputs": [],
   "source": [
    "Y_test1 = Y_test.reset_index()\n",
    "Y_test1 = Y_test1.drop(columns=['index'])\n",
    "imput_test_df['y'] = Y_test1 \n",
    "imput_test_df.to_csv('test_method1_rg.csv', index = False)"
   ]
  }
 ],
 "metadata": {
  "kernelspec": {
   "display_name": "Python 3",
   "language": "python",
   "name": "python3"
  },
  "language_info": {
   "codemirror_mode": {
    "name": "ipython",
    "version": 3
   },
   "file_extension": ".py",
   "mimetype": "text/x-python",
   "name": "python",
   "nbconvert_exporter": "python",
   "pygments_lexer": "ipython3",
   "version": "3.8.5"
  }
 },
 "nbformat": 4,
 "nbformat_minor": 4
}
